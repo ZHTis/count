
## read mouse
## plot mouse speed over time

import glob
import pandas as pd

path = 'C:/Users/ZHT/Documents/dataProcess/Smog_mouse'
files  = glob.glob(path + '/*.json') 
smog_mouse =[]

for file in files:
    data = pd.read_json(file)
    filedata = {'filename':file, 'df':data}
    print(filedata['filename'])
    print(filedata['df'].shape)
    smog_mouse.append(filedata)


df = pd.DataFrame(smog_mouse[0]['df']['mousePOs'])
df['X'] = df['mousePOs'].apply(lambda x: x['X'])
df['Y'] = df['mousePOs'].apply(lambda x: x['Y'])
smog_mouse[0]['df']['X'] = df['X']
smog_mouse[0]['df']['Y'] = df['Y']
smog_mouse[0]['df'].drop(['mousePOs'],axis=1)







