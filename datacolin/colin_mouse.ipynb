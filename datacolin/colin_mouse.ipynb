{
 "cells": [
  {
   "cell_type": "code",
   "execution_count": 337,
   "metadata": {},
   "outputs": [
    {
     "name": "stdout",
     "output_type": "stream",
     "text": [
      "/Users/rubythurs/Documents/dataProcess/smogMouse/HY.json\n",
      "(3658, 3)\n",
      "/Users/rubythurs/Documents/dataProcess/smogMouse/Jia.json\n",
      "(8786, 3)\n",
      "/Users/rubythurs/Documents/dataProcess/smogMouse/Xiaohcun.json\n",
      "(13189, 3)\n",
      "/Users/rubythurs/Documents/dataProcess/smogMouse/Ziyi-2024.json\n",
      "(4991, 3)\n",
      "/Users/rubythurs/Documents/dataProcess/smogMouse/zht.json\n",
      "(4870, 3)\n"
     ]
    }
   ],
   "source": [
    "\n",
    "## read mouse\n",
    "## plot mouse speed over time\n",
    "\n",
    "import glob\n",
    "import pandas as pd\n",
    "\n",
    "path = '/Users/rubythurs/Documents/dataProcess/smogMouse/'\n",
    "#'C:/Users/ZHT/Documents/dataProcess/Smog_mouse'\n",
    "files  = glob.glob(path + '/*.json') \n",
    "files = sorted(files)\n",
    "smog_mouse =[]\n",
    "\n",
    "for file in files:\n",
    "    data = pd.read_json(file)\n",
    "    filedata = {'filename':file, 'df':data}\n",
    "    print(filedata['filename'])\n",
    "    print(filedata['df'].shape)\n",
    "    smog_mouse.append(filedata)"
   ]
  },
  {
   "cell_type": "code",
   "execution_count": 338,
   "metadata": {},
   "outputs": [
    {
     "name": "stdout",
     "output_type": "stream",
     "text": [
      "/Users/rubythurs/Documents/dataProcess/smogFrame/HY.json\n",
      "(8398, 5)\n",
      "/Users/rubythurs/Documents/dataProcess/smogFrame/Jia.json\n",
      "(11605, 5)\n",
      "/Users/rubythurs/Documents/dataProcess/smogFrame/Xiaochun.json\n",
      "(25009, 5)\n",
      "/Users/rubythurs/Documents/dataProcess/smogFrame/Ziyi.json\n",
      "(9687, 5)\n",
      "/Users/rubythurs/Documents/dataProcess/smogFrame/zht.json\n",
      "(11362, 5)\n"
     ]
    }
   ],
   "source": [
    "\n",
    "## read mouse\n",
    "## plot mouse speed over time\n",
    "\n",
    "import glob\n",
    "import pandas as pd\n",
    "\n",
    "path = '/Users/rubythurs/Documents/dataProcess/smogFrame/'\n",
    "#'C:/Users/ZHT/Documents/dataProcess/Smog_frame'\n",
    "files  = glob.glob(path + '/*.json') \n",
    "files = sorted(files)\n",
    "smog_frame =[]\n",
    "\n",
    "for file in files:\n",
    "    data = pd.read_json(file)\n",
    "    filedata = {'filename':file, 'df':data}\n",
    "    print(filedata['filename'])\n",
    "    print(filedata['df'].shape)\n",
    "    smog_frame.append(filedata)"
   ]
  },
  {
   "cell_type": "code",
   "execution_count": 353,
   "metadata": {},
   "outputs": [
    {
     "name": "stderr",
     "output_type": "stream",
     "text": [
      "/var/folders/9d/228cbhrj7gx34xplc04_qy100000gn/T/ipykernel_34093/2290786825.py:11: SettingWithCopyWarning: \n",
      "A value is trying to be set on a copy of a slice from a DataFrame.\n",
      "Try using .loc[row_indexer,col_indexer] = value instead\n",
      "\n",
      "See the caveats in the documentation: https://pandas.pydata.org/pandas-docs/stable/user_guide/indexing.html#returning-a-view-versus-a-copy\n",
      "  mouse['mouseX'] = mouse['mousePOs'].apply(lambda x: x['X'])\n",
      "/var/folders/9d/228cbhrj7gx34xplc04_qy100000gn/T/ipykernel_34093/2290786825.py:12: SettingWithCopyWarning: \n",
      "A value is trying to be set on a copy of a slice from a DataFrame.\n",
      "Try using .loc[row_indexer,col_indexer] = value instead\n",
      "\n",
      "See the caveats in the documentation: https://pandas.pydata.org/pandas-docs/stable/user_guide/indexing.html#returning-a-view-versus-a-copy\n",
      "  mouse['mouseY'] = mouse['mousePOs'].apply(lambda x: x['Y'])\n",
      "/var/folders/9d/228cbhrj7gx34xplc04_qy100000gn/T/ipykernel_34093/2290786825.py:13: SettingWithCopyWarning: \n",
      "A value is trying to be set on a copy of a slice from a DataFrame.\n",
      "Try using .loc[row_indexer,col_indexer] = value instead\n",
      "\n",
      "See the caveats in the documentation: https://pandas.pydata.org/pandas-docs/stable/user_guide/indexing.html#returning-a-view-versus-a-copy\n",
      "  mouse['timeStamp']=mouse['timestamp']\n"
     ]
    }
   ],
   "source": [
    "import numpy as np\n",
    "\n",
    "individual = 0\n",
    "\n",
    "smogframe0 = smog_frame[individual]['df']\n",
    "tkept = smogframe0['timeStamp']\n",
    "\n",
    "#pd.options.mode.chained_assignment = None\n",
    "df = smog_mouse[individual]['df']\n",
    "mouse = df[df['timestamp'].isin(tkept)]\n",
    "mouse['mouseX'] = mouse['mousePOs'].apply(lambda x: x['X'])\n",
    "mouse['mouseY'] = mouse['mousePOs'].apply(lambda x: x['Y'])\n",
    "mouse['timeStamp']=mouse['timestamp']\n",
    "mouse = mouse.drop(columns=['mousePOs','timestamp'])\n",
    "\n"
   ]
  },
  {
   "cell_type": "code",
   "execution_count": 358,
   "metadata": {},
   "outputs": [
    {
     "data": {
      "text/html": [
       "<div>\n",
       "<style scoped>\n",
       "    .dataframe tbody tr th:only-of-type {\n",
       "        vertical-align: middle;\n",
       "    }\n",
       "\n",
       "    .dataframe tbody tr th {\n",
       "        vertical-align: top;\n",
       "    }\n",
       "\n",
       "    .dataframe thead th {\n",
       "        text-align: right;\n",
       "    }\n",
       "</style>\n",
       "<table border=\"1\" class=\"dataframe\">\n",
       "  <thead>\n",
       "    <tr style=\"text-align: right;\">\n",
       "      <th></th>\n",
       "      <th>frameTag</th>\n",
       "      <th>targetpos</th>\n",
       "      <th>cannonpos</th>\n",
       "      <th>ponPos</th>\n",
       "      <th>timeStamp</th>\n",
       "    </tr>\n",
       "  </thead>\n",
       "  <tbody>\n",
       "    <tr>\n",
       "      <th>0</th>\n",
       "      <td>1</td>\n",
       "      <td>[{'X': 1122.91406, 'Y': 344.3159}, {'X': 1234....</td>\n",
       "      <td>[{'X': 688.082, 'Y': 607.182556}, {'X': 717.34...</td>\n",
       "      <td>[]</td>\n",
       "      <td>2024-08-25 08:52:11.687</td>\n",
       "    </tr>\n",
       "    <tr>\n",
       "      <th>1</th>\n",
       "      <td>2</td>\n",
       "      <td>[{'X': 1122.91406, 'Y': 344.3159}, {'X': 1234....</td>\n",
       "      <td>[{'X': 688.082, 'Y': 607.182556}, {'X': 717.34...</td>\n",
       "      <td>[]</td>\n",
       "      <td>2024-08-25 08:52:11.712</td>\n",
       "    </tr>\n",
       "    <tr>\n",
       "      <th>2</th>\n",
       "      <td>3</td>\n",
       "      <td>[{'X': 1122.91406, 'Y': 344.3159}, {'X': 1234....</td>\n",
       "      <td>[{'X': 688.082, 'Y': 607.182556}, {'X': 717.34...</td>\n",
       "      <td>[]</td>\n",
       "      <td>2024-08-25 08:52:11.730</td>\n",
       "    </tr>\n",
       "    <tr>\n",
       "      <th>3</th>\n",
       "      <td>4</td>\n",
       "      <td>[{'X': 1122.91406, 'Y': 344.3159}, {'X': 1234....</td>\n",
       "      <td>[{'X': 688.082, 'Y': 607.182556}, {'X': 717.34...</td>\n",
       "      <td>[]</td>\n",
       "      <td>2024-08-25 08:52:11.749</td>\n",
       "    </tr>\n",
       "    <tr>\n",
       "      <th>4</th>\n",
       "      <td>5</td>\n",
       "      <td>[{'X': 1122.91406, 'Y': 344.3159}, {'X': 1234....</td>\n",
       "      <td>[{'X': 688.082, 'Y': 607.182556}, {'X': 717.34...</td>\n",
       "      <td>[]</td>\n",
       "      <td>2024-08-25 08:52:11.769</td>\n",
       "    </tr>\n",
       "    <tr>\n",
       "      <th>...</th>\n",
       "      <td>...</td>\n",
       "      <td>...</td>\n",
       "      <td>...</td>\n",
       "      <td>...</td>\n",
       "      <td>...</td>\n",
       "    </tr>\n",
       "    <tr>\n",
       "      <th>8393</th>\n",
       "      <td>8394</td>\n",
       "      <td>[{'X': 1159.931, 'Y': 444.0809}, {'X': 1229.07...</td>\n",
       "      <td>[{'X': 1291.81641, 'Y': 607.1457}, {'X': 1316....</td>\n",
       "      <td>[]</td>\n",
       "      <td>2024-08-25 08:54:59.547</td>\n",
       "    </tr>\n",
       "    <tr>\n",
       "      <th>8394</th>\n",
       "      <td>8395</td>\n",
       "      <td>[{'X': 1159.931, 'Y': 444.0809}, {'X': 1229.07...</td>\n",
       "      <td>[{'X': 1291.81641, 'Y': 607.1457}, {'X': 1316....</td>\n",
       "      <td>[]</td>\n",
       "      <td>2024-08-25 08:54:59.568</td>\n",
       "    </tr>\n",
       "    <tr>\n",
       "      <th>8395</th>\n",
       "      <td>8396</td>\n",
       "      <td>[{'X': 1159.931, 'Y': 444.0809}, {'X': 1229.07...</td>\n",
       "      <td>[{'X': 1291.81641, 'Y': 607.1457}, {'X': 1316....</td>\n",
       "      <td>[]</td>\n",
       "      <td>2024-08-25 08:54:59.588</td>\n",
       "    </tr>\n",
       "    <tr>\n",
       "      <th>8396</th>\n",
       "      <td>8397</td>\n",
       "      <td>[{'X': 1159.931, 'Y': 444.0809}, {'X': 1229.07...</td>\n",
       "      <td>[{'X': 1291.81641, 'Y': 607.1457}, {'X': 1316....</td>\n",
       "      <td>[]</td>\n",
       "      <td>2024-08-25 08:54:59.607</td>\n",
       "    </tr>\n",
       "    <tr>\n",
       "      <th>8397</th>\n",
       "      <td>8398</td>\n",
       "      <td>[{'X': 1159.931, 'Y': 444.0809}, {'X': 1229.07...</td>\n",
       "      <td>[{'X': 1291.81641, 'Y': 607.1457}, {'X': 1316....</td>\n",
       "      <td>[]</td>\n",
       "      <td>2024-08-25 08:54:59.631</td>\n",
       "    </tr>\n",
       "  </tbody>\n",
       "</table>\n",
       "<p>8398 rows × 5 columns</p>\n",
       "</div>"
      ],
      "text/plain": [
       "      frameTag                                          targetpos  \\\n",
       "0            1  [{'X': 1122.91406, 'Y': 344.3159}, {'X': 1234....   \n",
       "1            2  [{'X': 1122.91406, 'Y': 344.3159}, {'X': 1234....   \n",
       "2            3  [{'X': 1122.91406, 'Y': 344.3159}, {'X': 1234....   \n",
       "3            4  [{'X': 1122.91406, 'Y': 344.3159}, {'X': 1234....   \n",
       "4            5  [{'X': 1122.91406, 'Y': 344.3159}, {'X': 1234....   \n",
       "...        ...                                                ...   \n",
       "8393      8394  [{'X': 1159.931, 'Y': 444.0809}, {'X': 1229.07...   \n",
       "8394      8395  [{'X': 1159.931, 'Y': 444.0809}, {'X': 1229.07...   \n",
       "8395      8396  [{'X': 1159.931, 'Y': 444.0809}, {'X': 1229.07...   \n",
       "8396      8397  [{'X': 1159.931, 'Y': 444.0809}, {'X': 1229.07...   \n",
       "8397      8398  [{'X': 1159.931, 'Y': 444.0809}, {'X': 1229.07...   \n",
       "\n",
       "                                              cannonpos ponPos  \\\n",
       "0     [{'X': 688.082, 'Y': 607.182556}, {'X': 717.34...     []   \n",
       "1     [{'X': 688.082, 'Y': 607.182556}, {'X': 717.34...     []   \n",
       "2     [{'X': 688.082, 'Y': 607.182556}, {'X': 717.34...     []   \n",
       "3     [{'X': 688.082, 'Y': 607.182556}, {'X': 717.34...     []   \n",
       "4     [{'X': 688.082, 'Y': 607.182556}, {'X': 717.34...     []   \n",
       "...                                                 ...    ...   \n",
       "8393  [{'X': 1291.81641, 'Y': 607.1457}, {'X': 1316....     []   \n",
       "8394  [{'X': 1291.81641, 'Y': 607.1457}, {'X': 1316....     []   \n",
       "8395  [{'X': 1291.81641, 'Y': 607.1457}, {'X': 1316....     []   \n",
       "8396  [{'X': 1291.81641, 'Y': 607.1457}, {'X': 1316....     []   \n",
       "8397  [{'X': 1291.81641, 'Y': 607.1457}, {'X': 1316....     []   \n",
       "\n",
       "                   timeStamp  \n",
       "0    2024-08-25 08:52:11.687  \n",
       "1    2024-08-25 08:52:11.712  \n",
       "2    2024-08-25 08:52:11.730  \n",
       "3    2024-08-25 08:52:11.749  \n",
       "4    2024-08-25 08:52:11.769  \n",
       "...                      ...  \n",
       "8393 2024-08-25 08:54:59.547  \n",
       "8394 2024-08-25 08:54:59.568  \n",
       "8395 2024-08-25 08:54:59.588  \n",
       "8396 2024-08-25 08:54:59.607  \n",
       "8397 2024-08-25 08:54:59.631  \n",
       "\n",
       "[8398 rows x 5 columns]"
      ]
     },
     "execution_count": 358,
     "metadata": {},
     "output_type": "execute_result"
    }
   ],
   "source": [
    "smog_frame[individual]['df']"
   ]
  },
  {
   "cell_type": "code",
   "execution_count": 359,
   "metadata": {},
   "outputs": [],
   "source": [
    "smogf = smog_frame[individual]['df'].copy()\n",
    "smogf = smogf[smogf['ponPos'].apply(lambda x: x != [])]\n",
    "\n",
    "def framePonSplit(i,df):\n",
    "    df[f'{i}_ponX'] = df['ponPos'].apply(lambda x: x[i]['X'])\n",
    "    df[f'{i}_ponY'] = df['ponPos'].apply(lambda x: x[i]['Y'])\n",
    "    df[f'{i}_tarX'] = df['targetpos'].apply(lambda x: x[i]['X'])\n",
    "    df[f'{i}_tarY'] = df['targetpos'].apply(lambda x: x[i]['Y'])\n",
    "    \n",
    "    return df\n",
    "    #print(df.shape)\n",
    "\n",
    "smogf.reset_index(inplace=True)\n",
    "for i in range(5):\n",
    "    df = framePonSplit(i,smogf)\n",
    "\n",
    "def mergeclean(i,mouse_frame_merge):\n",
    "    return  mouse_frame_merge[['timeStamp','mouseX','mouseY',\n",
    "                               f'{i}_tarX',f'{i}_tarY']]\n",
    "                               #f'{i}_ponX',f'{i}_ponY']]\n",
    "\n",
    "mouse_frame_merge = pd.merge(mouse, smogf, on='timeStamp')\n",
    "merge1 = mergeclean(1,mouse_frame_merge)"
   ]
  },
  {
   "cell_type": "code",
   "execution_count": 360,
   "metadata": {},
   "outputs": [
    {
     "data": {
      "text/plain": [
       "(0.0, 1080.0)"
      ]
     },
     "execution_count": 360,
     "metadata": {},
     "output_type": "execute_result"
    },
    {
     "data": {
      "image/png": "[encoded data removed]",
      "text/plain": [
       "<Figure size 10800x288 with 4 Axes>"
      ]
     },
     "metadata": {
      "needs_background": "light"
     },
     "output_type": "display_data"
    }
   ],
   "source": [
    "import matplotlib.pyplot as plt\n",
    "#import mpld3\n",
    "#mpld3.enable_notebook()\n",
    "m =merge1\n",
    "fig, ax = plt.subplots(4,1, figsize=(150, 4))\n",
    "ax[0].scatter(m['timeStamp'],m['mouseX'])\n",
    "ax[1].scatter(m['timeStamp'],m['mouseY'])\n",
    "ax[2].scatter(m['timeStamp'],m['1_tarX'])\n",
    "ax[2].set_ylim(0, 1920)\n",
    "ax[3].scatter(m['timeStamp'],m['1_tarY'])\n",
    "ax[3].set_ylim(0, 1080)"
   ]
  },
  {
   "cell_type": "code",
   "execution_count": 363,
   "metadata": {},
   "outputs": [
    {
     "data": {
      "text/html": [
       "<div>\n",
       "<style scoped>\n",
       "    .dataframe tbody tr th:only-of-type {\n",
       "        vertical-align: middle;\n",
       "    }\n",
       "\n",
       "    .dataframe tbody tr th {\n",
       "        vertical-align: top;\n",
       "    }\n",
       "\n",
       "    .dataframe thead th {\n",
       "        text-align: right;\n",
       "    }\n",
       "</style>\n",
       "<table border=\"1\" class=\"dataframe\">\n",
       "  <thead>\n",
       "    <tr style=\"text-align: right;\">\n",
       "      <th></th>\n",
       "      <th>timeStamp</th>\n",
       "      <th>mouseX</th>\n",
       "      <th>mouseY</th>\n",
       "      <th>1_tarX</th>\n",
       "      <th>1_tarY</th>\n",
       "    </tr>\n",
       "  </thead>\n",
       "  <tbody>\n",
       "    <tr>\n",
       "      <th>0</th>\n",
       "      <td>0.0</td>\n",
       "      <td>82.0</td>\n",
       "      <td>75.0</td>\n",
       "      <td>1211.96716</td>\n",
       "      <td>296.781500</td>\n",
       "    </tr>\n",
       "    <tr>\n",
       "      <th>1</th>\n",
       "      <td>19.0</td>\n",
       "      <td>72.0</td>\n",
       "      <td>80.0</td>\n",
       "      <td>1208.85315</td>\n",
       "      <td>297.606171</td>\n",
       "    </tr>\n",
       "    <tr>\n",
       "      <th>2</th>\n",
       "      <td>40.0</td>\n",
       "      <td>64.0</td>\n",
       "      <td>83.0</td>\n",
       "      <td>1203.74109</td>\n",
       "      <td>298.677900</td>\n",
       "    </tr>\n",
       "    <tr>\n",
       "      <th>3</th>\n",
       "      <td>59.0</td>\n",
       "      <td>60.0</td>\n",
       "      <td>85.0</td>\n",
       "      <td>1197.88700</td>\n",
       "      <td>299.847656</td>\n",
       "    </tr>\n",
       "    <tr>\n",
       "      <th>4</th>\n",
       "      <td>80.0</td>\n",
       "      <td>57.0</td>\n",
       "      <td>94.0</td>\n",
       "      <td>1190.73352</td>\n",
       "      <td>301.689600</td>\n",
       "    </tr>\n",
       "    <tr>\n",
       "      <th>...</th>\n",
       "      <td>...</td>\n",
       "      <td>...</td>\n",
       "      <td>...</td>\n",
       "      <td>...</td>\n",
       "      <td>...</td>\n",
       "    </tr>\n",
       "    <tr>\n",
       "      <th>3495</th>\n",
       "      <td>153648.0</td>\n",
       "      <td>81.0</td>\n",
       "      <td>3.0</td>\n",
       "      <td>1224.44092</td>\n",
       "      <td>418.948000</td>\n",
       "    </tr>\n",
       "    <tr>\n",
       "      <th>3496</th>\n",
       "      <td>153658.0</td>\n",
       "      <td>81.0</td>\n",
       "      <td>3.0</td>\n",
       "      <td>1225.95154</td>\n",
       "      <td>417.629639</td>\n",
       "    </tr>\n",
       "    <tr>\n",
       "      <th>3497</th>\n",
       "      <td>153678.0</td>\n",
       "      <td>81.0</td>\n",
       "      <td>3.0</td>\n",
       "      <td>1227.51300</td>\n",
       "      <td>416.266700</td>\n",
       "    </tr>\n",
       "    <tr>\n",
       "      <th>3498</th>\n",
       "      <td>153699.0</td>\n",
       "      <td>81.0</td>\n",
       "      <td>3.0</td>\n",
       "      <td>1229.07886</td>\n",
       "      <td>414.899933</td>\n",
       "    </tr>\n",
       "    <tr>\n",
       "      <th>3499</th>\n",
       "      <td>153719.0</td>\n",
       "      <td>0.0</td>\n",
       "      <td>0.0</td>\n",
       "      <td>1229.07886</td>\n",
       "      <td>414.899933</td>\n",
       "    </tr>\n",
       "  </tbody>\n",
       "</table>\n",
       "<p>3500 rows × 5 columns</p>\n",
       "</div>"
      ],
      "text/plain": [
       "      timeStamp  mouseX  mouseY      1_tarX      1_tarY\n",
       "0           0.0    82.0    75.0  1211.96716  296.781500\n",
       "1          19.0    72.0    80.0  1208.85315  297.606171\n",
       "2          40.0    64.0    83.0  1203.74109  298.677900\n",
       "3          59.0    60.0    85.0  1197.88700  299.847656\n",
       "4          80.0    57.0    94.0  1190.73352  301.689600\n",
       "...         ...     ...     ...         ...         ...\n",
       "3495   153648.0    81.0     3.0  1224.44092  418.948000\n",
       "3496   153658.0    81.0     3.0  1225.95154  417.629639\n",
       "3497   153678.0    81.0     3.0  1227.51300  416.266700\n",
       "3498   153699.0    81.0     3.0  1229.07886  414.899933\n",
       "3499   153719.0     0.0     0.0  1229.07886  414.899933\n",
       "\n",
       "[3500 rows x 5 columns]"
      ]
     },
     "execution_count": 363,
     "metadata": {},
     "output_type": "execute_result"
    }
   ],
   "source": [
    "m1 = merge1.copy()\n",
    "m1['timeStamp'] =m1['timeStamp'].apply(lambda x: x.timestamp()*1000)\n",
    "t_ = m1['timeStamp'].min()\n",
    "m1['timeStamp'] = m1['timeStamp']-t_\n",
    "m1"
   ]
  },
  {
   "cell_type": "code",
   "execution_count": 367,
   "metadata": {},
   "outputs": [
    {
     "data": {
      "text/plain": [
       "Text(0.5, 1.0, 'Mouse speed relation to target speed')"
      ]
     },
     "execution_count": 367,
     "metadata": {},
     "output_type": "execute_result"
    },
    {
     "data": {
      "image/png": "[encoded data removed]",
      "text/plain": [
       "<Figure size 432x288 with 1 Axes>"
      ]
     },
     "metadata": {
      "needs_background": "light"
     },
     "output_type": "display_data"
    }
   ],
   "source": [
    "import matplotlib.pyplot as plt\n",
    "import numpy as np\n",
    "from scipy.stats import pearsonr\n",
    "\n",
    "mspeed = []\n",
    "pspeed = []\n",
    "mx= list(m1['mouseX'])\n",
    "my =list(m1['mouseY']) \n",
    "t = list(m1['timeStamp'])\n",
    "px = list(m1['1_tarX'])\n",
    "py = list(m1['1_tarY'])\n",
    "\n",
    "for i in range(1,m1.shape[0]-1):\n",
    "    x2 = ((mx[i+1]-mx[i-1])**2 + (my[i+1]-my[i-1])**2)**0.5\n",
    "    x1 = ((mx[i]-mx[i-1])**2 + (my[i]-my[i-1])**2)**0.5\n",
    "    v= max(x2/(t[i]-t[i-1]), x1/(t[i+1]-t[i]))\n",
    "    mspeed.append(v)\n",
    "    px2 = ((px[i+1]-px[i-1])**2 + (py[i+1]-py[i-1])**2)**0.5\n",
    "    px1 = ((px[i]-px[i-1])**2 + (py[i]-py[i-1])**2)**0.5\n",
    "    vp= max(px2/(t[i]-t[i-1]), px1/(t[i+1]-t[i]))\n",
    "    pspeed.append(vp)\n",
    "\n",
    "plt.rcParams['font.size'] = 12\n",
    "plt.scatter(pspeed,mspeed,s=2)\n",
    "plt.xlim(0, 5)\n",
    "plt.ylim(0, 5)\n",
    "plt.xlabel('Target speed(px/ms)')\n",
    "plt.ylabel('Mouse speed(px/ms)')\n",
    "plt.title('Mouse speed relation to target speed')"
   ]
  },
  {
   "cell_type": "code",
   "execution_count": 245,
   "metadata": {},
   "outputs": [
    {
     "name": "stdout",
     "output_type": "stream",
     "text": [
      "-0.0016042977858654343 0.9244335233740123\n",
      "0.002393331242498256 0.8874425634011647\n",
      "-0.005675714910520689 0.7371253235219439\n",
      "0.1384646555552586 1.8970376144206255e-16\n",
      "-0.999925590231308 0.0\n"
     ]
    }
   ],
   "source": [
    "c,_ = pearsonr(pspeed,mspeed)\n",
    "print(c,_)\n",
    "cx,cx_ = pearsonr(mx,px)\n",
    "print(cx,cx_)\n",
    "cy,cy_ = pearsonr(my,py)\n",
    "print(cy,cy_)\n",
    "cxy,xy_ = pearsonr(mx,my)\n",
    "print(cxy,xy_)\n",
    "mxy,mxy_ = pearsonr(px,py)\n",
    "print(mxy,mxy_)"
   ]
  },
  {
   "cell_type": "code",
   "execution_count": null,
   "metadata": {},
   "outputs": [],
   "source": []
  },
  {
   "cell_type": "markdown",
   "metadata": {},
   "source": [
    "Δd = sqrt( (x2-x1)^2 + (y2-y1)^2 )  # 位移变化量（欧氏距离）\n",
    "Δt = t2 - t1                        # 时间变化量\n",
    "velocity = Δd / Δt                   # 瞬时速度（像素/秒）"
   ]
  },
  {
   "cell_type": "code",
   "execution_count": 302,
   "metadata": {},
   "outputs": [
    {
     "name": "stderr",
     "output_type": "stream",
     "text": [
      "/var/folders/9d/228cbhrj7gx34xplc04_qy100000gn/T/ipykernel_34093/1086445247.py:36: UserWarning: FixedFormatter should only be used together with FixedLocator\n",
      "  ax.set_xticklabels(b)\n"
     ]
    },
    {
     "data": {
      "text/plain": [
       "Text(0.5, 1.0, 'Mouse Speed over Time')"
      ]
     },
     "execution_count": 302,
     "metadata": {},
     "output_type": "execute_result"
    },
    {
     "data": {
      "image/png": "[encoded data removed]",
      "text/plain": [
       "<Figure size 1008x216 with 1 Axes>"
      ]
     },
     "metadata": {
      "needs_background": "light"
     },
     "output_type": "display_data"
    }
   ],
   "source": [
    "import matplotlib.pyplot as plt\n",
    "\n",
    "moindex = list(mouse.index)\n",
    "breakidx = []\n",
    "\n",
    "for i in range(0,len(moindex)-1):\n",
    "   if moindex[i+1]-moindex[i]>1:\n",
    "      breakidx.append(moindex[i])\n",
    "    \n",
    "fig, ax = plt.subplots(figsize=(14, 3))\n",
    "for l in range(0,len(breakidx)-2):\n",
    "    start = breakidx[l]\n",
    "    end = breakidx[l+1]\n",
    "\n",
    "    m = mouse.loc[start:end]\n",
    "    x=list(m['mouseX'])\n",
    "    y = list(mouse['mouseY'])\n",
    "    t = list(m['timeStamp'])\n",
    "    t = list(map(lambda x: x.timestamp()*1000, t))# in ms\n",
    "\n",
    "    dlist=[]\n",
    "    for i in range(1,len(x)-2):\n",
    "        x2 = ((x[i+1]-x[i-1])**2 + (y[i+1]-y[i-1])**2)**0.5\n",
    "        x1 = ((x[i]-x[i-1])**2 + (y[i]-y[i-1])**2)**0.5\n",
    "        d = max(x2/(t[i]-t[i-1]), x1/(t[i+1]-t[i]))\n",
    "        dlist.append(d)\n",
    "    tlist = t[1:]\n",
    "    tlist = tlist[:-2]\n",
    "    ax.plot(tlist[10:50],dlist[10:50],c='grey')\n",
    "    ax.set_ylim(0, 15)\n",
    "\n",
    "a = ax.get_xticks()\n",
    "tmin = mouse['timeStamp'].min().timestamp()*1000\n",
    "b = a-tmin\n",
    "plt.rcParams['font.size'] = 16\n",
    "ax.set_xticklabels(b)\n",
    "ax.set_xlabel('time (ms)')\n",
    "ax.set_ylabel('speed (pix/ms)')\n",
    "ax.set_title('Mouse Speed over Time')\n"
   ]
  },
  {
   "cell_type": "code",
   "execution_count": null,
   "metadata": {},
   "outputs": [],
   "source": []
  },
  {
   "cell_type": "code",
   "execution_count": null,
   "metadata": {},
   "outputs": [],
   "source": []
  },
  {
   "cell_type": "code",
   "execution_count": null,
   "metadata": {},
   "outputs": [],
   "source": []
  },
  {
   "cell_type": "code",
   "execution_count": null,
   "metadata": {},
   "outputs": [],
   "source": [
    "import matplotlib.pyplot as plt\n",
    "#import mpld3\n",
    "#mpld3.enable_notebook()\n",
    "\n",
    "fig, ax = plt.subplots(2,1, figsize=(80, 4))\n",
    "ax[0].scatter(smog_mouse[0]['df']['timestamp'],smog_mouse[0]['df']['buttonUP'])\n",
    "\n"
   ]
  },
  {
   "cell_type": "code",
   "execution_count": null,
   "metadata": {},
   "outputs": [],
   "source": [
    "plt.figure(figsize=(19,10))\n",
    "plt.scatter(smog_mouse[0]['df']['X'],smog_mouse[0]['df']['Y'])\n",
    "\n",
    "plt.xlim(0, 1920)\n",
    "plt.ylim(0, 1080)"
   ]
  },
  {
   "cell_type": "code",
   "execution_count": null,
   "metadata": {},
   "outputs": [],
   "source": [
    "\n",
    "mouse_frame_merge\n"
   ]
  },
  {
   "cell_type": "code",
   "execution_count": null,
   "metadata": {},
   "outputs": [],
   "source": [
    "\n",
    "import seaborn as sns\n",
    "dfcorr = mouse_frame_merge[['mouseX','mouseY','ponX','ponY']]\n",
    "dfcorr.isnull().any()\n",
    "vmax=1\n",
    "vmin1=0\n",
    "sns.heatmap(dfcorr,annot=False , vmin=vmin1, vmax=vmax)"
   ]
  },
  {
   "cell_type": "code",
   "execution_count": null,
   "metadata": {},
   "outputs": [],
   "source": []
  },
  {
   "cell_type": "code",
   "execution_count": null,
   "metadata": {},
   "outputs": [],
   "source": []
  }
 ],
 "metadata": {
  "kernelspec": {
   "display_name": "base",
   "language": "python",
   "name": "python3"
  },
  "language_info": {
   "codemirror_mode": {
    "name": "ipython",
    "version": 3
   },
   "file_extension": ".py",
   "mimetype": "text/x-python",
   "name": "python",
   "nbconvert_exporter": "python",
   "pygments_lexer": "ipython3",
   "version": "3.9.7"
  }
 },
 "nbformat": 4,
 "nbformat_minor": 2
}
