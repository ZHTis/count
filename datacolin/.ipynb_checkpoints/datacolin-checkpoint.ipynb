{
 "cells": [
  {
   "cell_type": "code",
   "execution_count": null,
   "id": "88a88533-ef3a-4033-80bd-482496c21679",
   "metadata": {},
   "outputs": [],
   "source": [
    "### turn into df\n",
    "\n",
    "import json\n",
    "import pandas as pd\n",
    " \n",
    "file = \"C:\\Users\\ZHT\\Documents\\pilot data\\Pon\\Lin\\test-08-25-13-26-42-2024.json\"\n",
    "\n",
    "data = pd.read_json(file)\n",
    "print(data)"
   ]
  },
  {
   "cell_type": "code",
   "execution_count": null,
   "id": "e2b7ec6c",
   "metadata": {},
   "outputs": [],
   "source": [
    "print('read')"
   ]
  },
  {
   "cell_type": "code",
   "execution_count": null,
   "id": "f012a66c",
   "metadata": {},
   "outputs": [],
   "source": [
    "## read eye"
   ]
  },
  {
   "cell_type": "code",
   "execution_count": null,
   "id": "fa93d311",
   "metadata": {},
   "outputs": [],
   "source": [
    "### read 2afc time"
   ]
  },
  {
   "cell_type": "code",
   "execution_count": null,
   "id": "7bf409e2",
   "metadata": {},
   "outputs": [],
   "source": [
    "## read mouse "
   ]
  }
 ],
 "metadata": {
  "kernelspec": {
   "display_name": "Python 3 (ipykernel)",
   "language": "python",
   "name": "python3"
  },
  "language_info": {
   "codemirror_mode": {
    "name": "ipython",
    "version": 3
   },
   "file_extension": ".py",
   "mimetype": "text/x-python",
   "name": "python",
   "nbconvert_exporter": "python",
   "pygments_lexer": "ipython3",
   "version": "3.12.4"
  }
 },
 "nbformat": 4,
 "nbformat_minor": 5
}
