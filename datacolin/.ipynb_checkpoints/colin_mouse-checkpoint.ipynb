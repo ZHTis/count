{
 "cells": [
  {
   "cell_type": "code",
   "execution_count": 6,
   "metadata": {},
   "outputs": [
    {
     "name": "stdout",
     "output_type": "stream",
     "text": [
      "C:/Users/ZHT/Documents/dataProcess/Smog_mouse\\Heting.json\n",
      "(4870, 3)\n",
      "C:/Users/ZHT/Documents/dataProcess/Smog_mouse\\HY.json\n",
      "(3658, 3)\n",
      "C:/Users/ZHT/Documents/dataProcess/Smog_mouse\\Jia.json\n",
      "(8786, 3)\n",
      "C:/Users/ZHT/Documents/dataProcess/Smog_mouse\\Lin.json\n",
      "(7561, 3)\n",
      "C:/Users/ZHT/Documents/dataProcess/Smog_mouse\\Xiaochun.json\n",
      "(13189, 3)\n",
      "C:/Users/ZHT/Documents/dataProcess/Smog_mouse\\Ziyi.json\n",
      "(4991, 3)\n"
     ]
    }
   ],
   "source": [
    "\n",
    "## read mouse\n",
    "## plot mouse speed over time\n",
    "\n",
    "import glob\n",
    "import pandas as pd\n",
    "\n",
    "path = 'C:/Users/ZHT/Documents/dataProcess/Smog_mouse'\n",
    "files  = glob.glob(path + '/*.json') \n",
    "smog_mouse =[]\n",
    "\n",
    "for file in files:\n",
    "    data = pd.read_json(file)\n",
    "    filedata = {'filename':file, 'df':data}\n",
    "    print(filedata['filename'])\n",
    "    print(filedata['df'].shape)\n",
    "    smog_mouse.append(filedata)"
   ]
  },
  {
   "cell_type": "code",
   "execution_count": 37,
   "metadata": {},
   "outputs": [
    {
     "data": {
      "text/plain": [
       "0      2024-08-25 04:33:19.167\n",
       "1      2024-08-25 04:33:19.184\n",
       "2      2024-08-25 04:33:19.205\n",
       "3      2024-08-25 04:33:19.225\n",
       "4      2024-08-25 04:33:19.245\n",
       "                 ...          \n",
       "4865   2024-08-25 04:36:51.444\n",
       "4866   2024-08-25 04:36:51.463\n",
       "4867   2024-08-25 04:36:51.484\n",
       "4868   2024-08-25 04:36:51.505\n",
       "4869   2024-08-25 04:36:51.524\n",
       "Name: timestamp, Length: 4870, dtype: datetime64[ns]"
      ]
     },
     "execution_count": 37,
     "metadata": {},
     "output_type": "execute_result"
    }
   ],
   "source": [
    "df = pd.DataFrame(smog_mouse[0]['df']['mousePOs'])\n",
    "df['X'] = df['mousePOs'].apply(lambda x: x['X'])\n",
    "df['Y'] = df['mousePOs'].apply(lambda x: x['Y'])\n",
    "smog_mouse[0]['df']['X'] = df['X']\n",
    "smog_mouse[0]['df']['Y'] = df['Y']\n",
    "smog_mouse[0]['df'].drop(['mousePOs'],axis=1)\n"
   ]
  },
  {
   "cell_type": "code",
   "execution_count": null,
   "metadata": {},
   "outputs": [],
   "source": []
  },
  {
   "cell_type": "code",
   "execution_count": null,
   "metadata": {},
   "outputs": [],
   "source": []
  }
 ],
 "metadata": {
  "kernelspec": {
   "display_name": "count",
   "language": "python",
   "name": "python3"
  },
  "language_info": {
   "codemirror_mode": {
    "name": "ipython",
    "version": 3
   },
   "file_extension": ".py",
   "mimetype": "text/x-python",
   "name": "python",
   "nbconvert_exporter": "python",
   "pygments_lexer": "ipython3",
   "version": "3.12.4"
  }
 },
 "nbformat": 4,
 "nbformat_minor": 2
}
