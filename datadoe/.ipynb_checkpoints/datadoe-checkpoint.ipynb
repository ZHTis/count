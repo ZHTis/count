{
 "cells": [
  {
   "cell_type": "code",
   "execution_count": null,
   "id": "45cbad54-b536-41e1-86af-766aef70afda",
   "metadata": {
    "tags": []
   },
   "outputs": [],
   "source": [
    "#===========read sigle file===========\n",
    "import pandas as pd\n",
    "import ast\n",
    "\n",
    "dictx = []\n",
    "\n",
    "path = '/Users/rubythurs/Library/Application Support/Godot/app_userdata/Ray/save_2023-12-4-10.51.56.csv'\n",
    "with open(path) as f:\n",
    "    data = f.read()\n",
    "    data2 = ast.literal_eval(data) #tuple\n",
    "    for item in data2:\n",
    "        if isinstance(item, dict):\n",
    "            dictx.append(item)\n",
    "pd.set_option('display.max_columns', 40)\n",
    "pd.set_option('display.max_rows', None)\n",
    "df = pd.DataFrame(dictx)\n",
    "dfg = df.dropna(subset=['grade'])\n",
    "dfg\n",
    "#==========end=========="
   ]
  },
  {
   "cell_type": "code",
   "execution_count": null,
   "id": "bbc918f7-5936-4beb-b313-3ed51ddcbb5f",
   "metadata": {},
   "outputs": [],
   "source": [
    "#========================================="
   ]
  },
  {
   "cell_type": "code",
   "execution_count": null,
   "id": "b2d728ac-175c-43ba-81d8-b2a5080d88cd",
   "metadata": {},
   "outputs": [],
   "source": [
    "#===========read from directory===========\n",
    "\n",
    "import pandas as pd\n",
    "import numpy as np\n",
    "import ast\n",
    "import os\n",
    "\n",
    "# the data form is required to have no space at the beginning and nothing and the end,\n",
    "# and dicts should be separated with comma.\n",
    "\n",
    "#raw data files:\n",
    "paths = []\n",
    "directory = '/Users/rubythurs/PycharmProjects/count/datadoe/3f'\n",
    "for filename in os.listdir(directory):\n",
    "    if os.path.isfile(os.path.join(directory, filename)):\n",
    "        filepath = os.path.join(directory,filename)\n",
    "        paths.append(filepath)\n",
    "len(paths)"
   ]
  },
  {
   "cell_type": "code",
   "execution_count": null,
   "id": "55a0a4a3-ceb6-4c06-ac77-87748e83b024",
   "metadata": {
    "scrolled": true
   },
   "outputs": [],
   "source": [
    "for i in range(0,len(paths)):\n",
    "    print(paths[i])"
   ]
  },
  {
   "cell_type": "code",
   "execution_count": null,
   "id": "191e25fd-6bf0-41c7-8530-a21eedf5f58c",
   "metadata": {
    "scrolled": true,
    "tags": []
   },
   "outputs": [],
   "source": [
    "dictx = []\n",
    "for i in range(0,len(paths)):\n",
    "    path = paths[i]\n",
    "    with open(path) as f:\n",
    "        data = f.read()\n",
    "        data2 = ast.literal_eval(data) #tuple\n",
    "        for item in data2:\n",
    "            if isinstance(item, dict):\n",
    "                dictx.append(item)\n",
    "\n",
    "pd.set_option('display.max_columns', 40)\n",
    "pd.set_option('display.max_rows', None)\n",
    "df = pd.DataFrame(dictx)\n",
    "\n",
    "dfg = df.dropna(subset=['grade'])\n",
    "dfg\n",
    "\n",
    "#===========end reading==========="
   ]
  },
  {
   "cell_type": "code",
   "execution_count": null,
   "id": "2e016f10-13dd-4a0a-ad47-472880895fc3",
   "metadata": {
    "scrolled": true
   },
   "outputs": [],
   "source": [
    "#unite the grades\n",
    "mask =  dfg['ini_time'] == dfg['ini_time'].shift(-1)\n",
    "dfg.loc[mask, 'grade'] = np.nan\n",
    "dfgh = dfg.bfill()\n",
    "# things to analyze\n",
    "dfgh['response_time'] = dfgh['click_time']-dfgh['ini_time']\n",
    "dfgh[['ini_x','ini_y']] = dfgh['ini_pos'].str.strip('()').str.split(',', expand=True)\n",
    "dfgh[['click_x','click_y']] = dfgh['click_pos'].str.strip('()').str.split(',', expand=True)\n",
    "# Convert the entire 'Column1' from string to numeric\n",
    "columns_to_convert = ['click_x', 'click_y', 'ini_x','ini_y']\n",
    "dfgh[columns_to_convert] = dfgh[columns_to_convert].apply(pd.to_numeric)\n",
    "dfgh['group']= pd.cut(dfgh['percent_visible'],bins=[i/10 for i in range(11)], labels=[f'{i/10}-{(i+1)/10}' for i in range(10)])\n",
    "dfgh"
   ]
  },
  {
   "cell_type": "code",
   "execution_count": null,
   "id": "7d1e3e49-9977-48dd-a833-4e9d7acfc085",
   "metadata": {
    "tags": []
   },
   "outputs": [],
   "source": [
    "dfgh.shape"
   ]
  },
  {
   "cell_type": "code",
   "execution_count": null,
   "id": "c525e3cf-cbd3-4842-a16d-07d4cf9b0618",
   "metadata": {},
   "outputs": [],
   "source": [
    "#================================"
   ]
  },
  {
   "cell_type": "code",
   "execution_count": null,
   "id": "331fcd2c-06c5-44ff-bd84-2a9ddb6663e9",
   "metadata": {},
   "outputs": [],
   "source": [
    "#=========cor rate=========="
   ]
  },
  {
   "cell_type": "code",
   "execution_count": null,
   "id": "fb5f97b0-d6ee-4b21-8ec3-2f4f75f17791",
   "metadata": {
    "tags": []
   },
   "outputs": [],
   "source": [
    "unique_groups = dfgh['group'].unique()\n",
    "print(f'percent groups: {len(unique_groups)}')\n",
    "\n",
    "\n",
    "# Create a dictionary to store the selected DataFrames\n",
    "dfs = {} #all responses\n",
    "dfss ={} # 1 response per trail\n",
    "\n",
    "# Select rows for each unique value in the \"Group\" column\n",
    "for group_value in unique_groups:\n",
    "    dfs[group_value] = dfgh[dfgh['group'] == group_value]\n",
    "    #correct rate\n",
    "    latest_touch_time= dfs[group_value].groupby('ini_time')['response_time'].idxmax()\n",
    "    dfss[group_value] = dfs[group_value].loc[latest_touch_time]\n",
    "    q = dfss[group_value]['grade'].value_counts()[1]\n",
    "    shape = dfss[group_value].shape[0]\n",
    "    rate=q / shape\n",
    "    \n",
    " \n",
    "\n",
    "    print(f'{group_value},  total_touches: {dfs[group_value].shape[0]},  total_trails:{shape},  cor_rate: {rate.round(2)},')"
   ]
  },
  {
   "cell_type": "code",
   "execution_count": null,
   "id": "d7ce0c1d-aaf5-4fc6-a079-277e4a34f8f7",
   "metadata": {},
   "outputs": [],
   "source": [
    "#=========time messages=========="
   ]
  },
  {
   "cell_type": "code",
   "execution_count": null,
   "id": "f938f395-15d6-47c2-b54b-6b15a61cd80a",
   "metadata": {},
   "outputs": [],
   "source": [
    "unique_groups = dfgh['group'].unique()\n",
    "print(f'percent groups: {len(unique_groups)}')\n",
    "\n",
    "\n",
    "# Create a dictionary to store the selected DataFrames\n",
    "dfs = {} #all responses\n",
    "\n",
    "\n",
    "# Select rows for each unique value in the \"Group\" column\n",
    "for group_value in unique_groups:\n",
    "    dfs[group_value] = dfgh[dfgh['group'] == group_value]    \n",
    "    #time message\n",
    "    loc1 = dfs[group_value].groupby('ini_time')['response_time'].idxmax()\n",
    "    loc0 = dfs[group_value].groupby('ini_time')['response_time'].idxmin()\n",
    "    mintime= dfs[group_value].loc[loc0]['response_time'].values * 0.001\n",
    "    maxtime= dfs[group_value].loc[loc1].response_time.values *0.001\n",
    "    duration = (maxtime-mintime)\n",
    "    #print(f'{group_value},   {mintime.mean().round()},  {maxtime.mean().round()},  {duration.mean().round()}')\n",
    "    print(f'{group_value},  {mintime.std().round()},  {maxtime.std().round()},  {duration.std().round()},')\n"
   ]
  },
  {
   "cell_type": "code",
   "execution_count": null,
   "id": "f762d40c-656d-4d13-9034-44774a5380cf",
   "metadata": {},
   "outputs": [],
   "source": [
    "import pandas as pd\n",
    "import matplotlib.pyplot as plt\n",
    "\n",
    "\n",
    "\n",
    "dfgh.boxplot(column='response_time', by='group')\n",
    "\n",
    "# Set the plot title and axis labels\n",
    "plt.title('Box Plot')\n",
    "plt.xlabel('Group')\n",
    "plt.ylabel('Value')\n",
    "\n",
    "# Display the plot\n",
    "plt.show()"
   ]
  },
  {
   "cell_type": "code",
   "execution_count": null,
   "id": "03491712-91db-4636-af7f-c9fa13cf075a",
   "metadata": {
    "tags": []
   },
   "outputs": [],
   "source": [
    "unique_groups = dfgh['group'].unique()\n",
    "print(f'percent groups: {len(unique_groups)}')\n",
    "\n",
    "\n",
    "# Create a dictionary to store the selected DataFrames\n",
    "dfs = {} #all responses\n",
    "\n",
    "per = []\n",
    "mintime_mean = []\n",
    "maxtime_mean = []\n",
    "duration_mean = []\n",
    "mintime_std = []\n",
    "maxtime_std = []\n",
    "duration_std= []\n",
    "\n",
    "# Select rows for each unique value in the \"Group\" column\n",
    "for group_value in unique_groups:\n",
    "    dfs[group_value] = dfgh[dfgh['group'] == group_value]   \n",
    "    per.append(group_value)\n",
    "    \n",
    "    #time message\n",
    "    loc1 = dfs[group_value].groupby('ini_time')['response_time'].idxmax()\n",
    "    loc0 = dfs[group_value].groupby('ini_time')['response_time'].idxmin()\n",
    "    mintime= dfs[group_value].loc[loc0]['response_time'].values * 0.001\n",
    "    maxtime= dfs[group_value].loc[loc1].response_time.values *0.001\n",
    "    duration = (maxtime-mintime)\n",
    "    \n",
    "    mintime_std.append(mintime.std().round())\n",
    "    mintime_mean.append(mintime.mean().round())\n",
    "    maxtime_mean.append(maxtime.mean().round())\n",
    "    maxtime_std.append(maxtime.std().round())\n",
    "    duration_mean.append(duration.mean().round())\n",
    "    duration_std.append(duration.std().round())\n",
    "  \n",
    "\n",
    "dft = {'percent':per,'mintime_mean':mintime_mean,'mintime_std':mintime_std,}\n",
    "dft = pd.DataFrame(dft)\n",
    "dft"
   ]
  },
  {
   "cell_type": "code",
   "execution_count": null,
   "id": "e8fd44d3-e75d-4cc5-baac-137ddd415e33",
   "metadata": {},
   "outputs": [],
   "source": [
    "#=========end time messages=========="
   ]
  },
  {
   "cell_type": "code",
   "execution_count": null,
   "id": "6059e1d5-a613-4a3c-a66b-fd0e259c4645",
   "metadata": {},
   "outputs": [],
   "source": []
  },
  {
   "cell_type": "code",
   "execution_count": null,
   "id": "b69f9a4a-27ee-42b9-b3a0-2b29852505f8",
   "metadata": {},
   "outputs": [],
   "source": []
  },
  {
   "cell_type": "code",
   "execution_count": null,
   "id": "57d37dbb-160a-4ef9-a712-85e16275f3ac",
   "metadata": {
    "collapsed": true,
    "jupyter": {
     "outputs_hidden": true
    },
    "tags": []
   },
   "outputs": [],
   "source": [
    "dfs['0.5-0.6']"
   ]
  },
  {
   "cell_type": "code",
   "execution_count": null,
   "id": "6b30e852-6a20-46a9-9521-be94ad2f223e",
   "metadata": {
    "collapsed": true,
    "jupyter": {
     "outputs_hidden": true
    },
    "tags": []
   },
   "outputs": [],
   "source": [
    "latest_touch_time= dfs['0.3-0.4'].groupby('ini_time')['response_time'].idxmax()\n",
    "dfs4= dfs['0.3-0.4'].loc[latest_touch_time]\n",
    "dfs4"
   ]
  },
  {
   "cell_type": "code",
   "execution_count": null,
   "id": "85a58581-b61e-48c8-a378-36d5d561da5f",
   "metadata": {},
   "outputs": [],
   "source": [
    "dfs4['grade'].value_counts()[0]/dfs4.shape[0]\n",
    "# correct rate\n",
    "dfs4['grade'].value_counts()"
   ]
  },
  {
   "cell_type": "code",
   "execution_count": null,
   "id": "4e85bf63-d65b-4500-907e-9a32facdfed1",
   "metadata": {},
   "outputs": [],
   "source": []
  },
  {
   "cell_type": "code",
   "execution_count": null,
   "id": "b2c7b4d2-0e2d-4f33-954f-418ce9b97673",
   "metadata": {},
   "outputs": [],
   "source": []
  },
  {
   "cell_type": "code",
   "execution_count": null,
   "id": "7e8f9d2d-46d4-4d73-a332-1bfbaf4ecb12",
   "metadata": {},
   "outputs": [],
   "source": []
  },
  {
   "cell_type": "code",
   "execution_count": null,
   "id": "10ae6a7d-d43a-4fbf-9d23-feb9b809a226",
   "metadata": {},
   "outputs": [],
   "source": []
  },
  {
   "cell_type": "code",
   "execution_count": null,
   "id": "415ad03b-fe1f-4c30-89d6-f80f43b9f694",
   "metadata": {},
   "outputs": [],
   "source": [
    "#group\n",
    "num_of_trials = dfgh.groupby('ini_time').ngroups\n",
    "print('num of trials : ',num_of_trials)"
   ]
  },
  {
   "cell_type": "code",
   "execution_count": null,
   "id": "a87ff7d7-23bd-4838-a578-4a5844071418",
   "metadata": {
    "tags": []
   },
   "outputs": [],
   "source": [
    "latest_touch_time= dfgh.groupby('ini_time')['response_time'].idxmax()\n",
    "dfgj = dfgh.loc[latest_touch_time]\n",
    "dfgj.shape"
   ]
  },
  {
   "cell_type": "code",
   "execution_count": null,
   "id": "eb748b37-f755-4c38-8e16-ee46dc4c6020",
   "metadata": {},
   "outputs": [],
   "source": []
  },
  {
   "cell_type": "code",
   "execution_count": null,
   "id": "3676a384-7fc7-4338-8352-6db6b09f0dda",
   "metadata": {},
   "outputs": [],
   "source": []
  },
  {
   "cell_type": "code",
   "execution_count": null,
   "id": "6ab5f6b8-6406-453d-abdb-559088cdcf61",
   "metadata": {},
   "outputs": [],
   "source": []
  },
  {
   "cell_type": "code",
   "execution_count": null,
   "id": "1ed39314-df8a-4437-9e40-60f237769f33",
   "metadata": {
    "collapsed": true,
    "jupyter": {
     "outputs_hidden": true
    },
    "scrolled": true,
    "tags": []
   },
   "outputs": [],
   "source": [
    "\n",
    "dfgg = dfgh.groupby('ini_time').agg({'response_time':['mean','std'], 'click_x':['mean','std'],'click_y':['mean','std']}).reset_index()\n",
    "\n",
    "dfgg.columns = ['ini_time','res_time_mean','res_time_std','clickX_mean','clickX_std','clickY_mean','clickY_std']\n",
    "selected_col = ['ball_now_pos','choice1','choice2','click_x','click_y','ini_pos','ini_vel','grade','response_time','res_time_mean','res_time_std']\n",
    "dfa = pd.merge(dfgh,dfgg,on='ini_time')\n",
    "dfa[selected_col]"
   ]
  },
  {
   "cell_type": "code",
   "execution_count": null,
   "id": "2fcba1ff-4701-4d12-8038-e9e3835fce6b",
   "metadata": {
    "scrolled": true
   },
   "outputs": [],
   "source": [
    "#correct or not\n",
    "dfc = dfa[dfa['grade']==1]\n",
    "dff = dfa[dfa['grade']==0]\n",
    "print(dfc.shape)\n",
    "print(dff.shape)"
   ]
  },
  {
   "cell_type": "code",
   "execution_count": null,
   "id": "39557190-abbd-4c8d-a384-b875027b13a3",
   "metadata": {},
   "outputs": [],
   "source": [
    "\n",
    "dfc2 = dfa2[dfa2['grade']==1]\n",
    "dff2 = dfa2[dfa2['grade']==0]\n",
    "print(dfc2.shape)\n",
    "print(dff2.shape)\n",
    "\n",
    "dfc3 = dfa3[dfa3['grade']==1]\n",
    "dff3 = dfa3[dfa3['grade']==0]\n",
    "print(dfc3.shape)\n",
    "print(dff3.shape)"
   ]
  },
  {
   "cell_type": "code",
   "execution_count": null,
   "id": "8ac99e03-a31b-4388-bd97-0a9a803d1579",
   "metadata": {},
   "outputs": [],
   "source": [
    "import matplotlib as mpl\n",
    "import matplotlib.pyplot as plt\n",
    "\n",
    "data1 = dfc2['response_time']\n",
    "data2 = dff2['response_time']\n",
    "data3 = dfc3['response_time']\n",
    "data4 = dff3['response_time']\n",
    "fig = plt.figure(figsize =(5, 4))\n",
    "ax = fig.add_axes([0, 0, 1, 1])\n",
    "x2=[1,2]\n",
    "x3 = [1.5,2.5]\n",
    "ax.boxplot([data1,data2],positions=x2)\n",
    "ax.boxplot([data3,data4],positions=x3)\n",
    "ax.eventplot([data1,data2], orientation=\"vertical\",lineoffsets=x2,linelengths=0.25,color ='blue')\n",
    "ax.eventplot([data3,data4], orientation=\"vertical\",lineoffsets=x3,linelengths=0.25,color='orange')\n",
    "plt.ylim(0,10e6)"
   ]
  },
  {
   "cell_type": "code",
   "execution_count": null,
   "id": "af0dd04e-4a38-4bc0-aa7f-0c08cc8fd8e4",
   "metadata": {},
   "outputs": [],
   "source": [
    "import matplotlib.pyplot as plt\n",
    "from scipy.stats import norm,expon, gamma\n",
    "\n",
    "data = dfc2['response_time']\n",
    "data_ = dff2['response_time']\n",
    "data3 = dfc3['response_time']\n",
    "data3_ = dff3['response_time']\n",
    "\n",
    "params = norm.fit(data)\n",
    "mu, sigma = params\n",
    "print(params)\n",
    "x = np.linspace(-1*max(data),max(data))\n",
    "y = norm.pdf(x,loc=mu,scale=sigma)\n",
    "plt.plot(x,y,'r',label='grade=1')\n",
    "\n",
    "\n",
    "params_ = norm.fit(data_)\n",
    "mu_, sigma_ = params_\n",
    "print(params_)\n",
    "x_ = np.linspace(-1*max(data_),max(data_))\n",
    "y_ = norm.pdf(x_,loc=mu_,scale=sigma_)\n",
    "plt.plot(x_,y_,'g',label='grade=0')\n",
    "\n",
    "\n",
    "params3 = norm.fit(data3)\n",
    "mu3, sigma3 = params3\n",
    "print(params3)\n",
    "x3 = np.linspace(-1*max(data3),max(data3))\n",
    "y3 = norm.pdf(x,loc=mu3,scale=sigma3)\n",
    "plt.plot(x3,y3,'purple',label='3_grade=1')\n",
    "\n",
    "\n",
    "params3_ = norm.fit(data3_)\n",
    "mu3_, sigma3_ = params3_\n",
    "print(params3_)\n",
    "x3_ = np.linspace(-1*max(data3_),max(data3_))\n",
    "y3_ = norm.pdf(x3_,loc=mu3_,scale=sigma3_)\n",
    "plt.plot(x3_,y3_,'orange',label='3_grade=0')\n",
    "\n",
    "plt.legend()\n",
    "plt.xlim(-1e9,1e)\n",
    "plt.show()"
   ]
  },
  {
   "cell_type": "code",
   "execution_count": null,
   "id": "0033539f-f6f4-4b7a-ba24-924299d91167",
   "metadata": {},
   "outputs": [],
   "source": [
    "dfa2[['ini_pos_x','ini_pos_y']]=dfa2['ini_pos'].str.strip('()').str.split(',', expand=True)\n",
    "columns_to_convert = ['ini_pos_x','ini_pos_y']\n",
    "dfa2[columns_to_convert] = dfa2[columns_to_convert].apply(pd.to_numeric)\n",
    "\n",
    "ax1 = plt.subplot(221)\n",
    "ax1.set_title('dfa2')\n",
    "dfa2.plot.scatter(x='ini_pos_y', y='res_time_mean', alpha=0.5,ax=ax1)\n",
    "ax2 = plt.subplot(223)\n",
    "ax2.set_title('dfa2_zoom')\n",
    "dfa2.plot.scatter(x='ini_pos_y', y='res_time_mean', alpha=0.5,ax=ax2)\n",
    "plt.ylim(0,0.2e8)\n",
    "\n",
    "dfa3[['ini_pos_x','ini_pos_y']]=dfa3['ini_pos'].str.strip('()').str.split(',', expand=True)\n",
    "columns_to_convert = ['ini_pos_x','ini_pos_y']\n",
    "dfa3[columns_to_convert] = dfa3[columns_to_convert].apply(pd.to_numeric)\n",
    "\n",
    "ax3 = plt.subplot(222)\n",
    "ax3.set_title('dfa3')\n",
    "dfa3.plot.scatter(x='ini_pos_y', y='res_time_mean', alpha=0.5,ax=ax3)\n",
    "ax4 = plt.subplot(224)\n",
    "ax4.set_title('dfa3_zoom')\n",
    "dfa3.plot.scatter(x='ini_pos_y', y='res_time_mean', alpha=0.5,ax=ax4)\n",
    "plt.ylim(0,0.2e8)\n",
    "\n",
    "plt.tight_layout()\n",
    "plt.show()"
   ]
  },
  {
   "cell_type": "code",
   "execution_count": null,
   "id": "0fc260a0-e054-4ad3-83ce-c69baff1743f",
   "metadata": {},
   "outputs": [],
   "source": [
    "dfa2[['tar_x','tar_y']]=dfa2['choice1'].str.strip('()').str.split(',', expand=True)\n",
    "columns_to_convert = ['tar_x','tar_y']\n",
    "dfa2[columns_to_convert] = dfa2[columns_to_convert].apply(pd.to_numeric)\n",
    "\n",
    "dfa3[['tar_x','tar_y']]=dfa3['choice1'].str.strip('()').str.split(',', expand=True)\n",
    "columns_to_convert = ['tar_x','tar_y']\n",
    "dfa3[columns_to_convert] = dfa3[columns_to_convert].apply(pd.to_numeric)\n",
    "\n",
    "\n",
    "ax1 = plt.subplot(221)\n",
    "ax1.set_title('dfa2')\n",
    "dfa2.plot.scatter(x='tar_x', y='res_time_mean', alpha=0.5,ax=ax1)\n",
    "ax2 = plt.subplot(223)\n",
    "ax1.set_title('dfa2_zoom')\n",
    "dfa2.plot.scatter(x='tar_x', y='res_time_mean', alpha=0.5,ax=ax2)\n",
    "plt.ylim(0,0.2e8)\n",
    "\n",
    "\n",
    "ax3 = plt.subplot(222)\n",
    "ax3.set_title('dfa3')\n",
    "dfa3.plot.scatter(x='tar_x', y='res_time_mean', alpha=0.5,ax=ax3)\n",
    "ax4 = plt.subplot(224)\n",
    "ax4.set_title('dfa3_zoom')\n",
    "dfa3.plot.scatter(x='tar_x', y='res_time_mean', alpha=0.5,ax=ax4)\n",
    "plt.ylim(0,0.2e8)\n",
    "\n",
    "plt.tight_layout()\n",
    "plt.show()"
   ]
  },
  {
   "cell_type": "code",
   "execution_count": null,
   "id": "ff676ac1-d9c4-48b3-b807-6928af0e6847",
   "metadata": {
    "scrolled": true
   },
   "outputs": [],
   "source": [
    "dfa2['tar_ini_distance'] =dfa2['ini_x']-dfa2['tar_x']\n",
    "dfa2['tar_ini_distance'] = dfa2['tar_ini_distance'].apply(pd.to_numeric).abs()\n",
    "dfa3['tar_ini_distance'] =dfa3['ini_x']-dfa3['tar_x']\n",
    "dfa3['tar_ini_distance'] = dfa3['tar_ini_distance'].apply(pd.to_numeric).abs()\n",
    "\n",
    "ax1 = plt.subplot(2,2,1)\n",
    "ax1.set_title('dfa2')\n",
    "dfa2.plot.scatter(x='tar_ini_distance', y='res_time_mean', alpha=0.5,ax=ax1)\n",
    "\n",
    "ax2 = plt.subplot(2,2,3)\n",
    "ax2.set_title('dfa2_zoom')\n",
    "dfa2.plot.scatter(x='tar_ini_distance', y='res_time_mean', alpha=0.5,ax=ax2)\n",
    "plt.ylim(0,1e7)\n",
    "\n",
    "ax3 = plt.subplot(2,2,2)\n",
    "ax3.set_title('dfa3')\n",
    "dfa3.plot.scatter(x='tar_ini_distance', y='res_time_mean', alpha=0.5,ax=ax3)\n",
    "\n",
    "ax4 = plt.subplot(2,2,4)\n",
    "ax3.set_title('dfa3_zoom')\n",
    "dfa3.plot.scatter(x='tar_ini_distance', y='res_time_mean', alpha=0.5,ax=ax4)\n",
    "plt.ylim(0,1e7)\n",
    "\n",
    "plt.tight_layout()\n",
    "plt.show()"
   ]
  },
  {
   "cell_type": "code",
   "execution_count": null,
   "id": "6bec4f48-cba1-4a79-b6cb-e1af06805371",
   "metadata": {},
   "outputs": [],
   "source": []
  }
 ],
 "metadata": {
  "kernelspec": {
   "display_name": "Python 3 (ipykernel)",
   "language": "python",
   "name": "python3"
  },
  "language_info": {
   "codemirror_mode": {
    "name": "ipython",
    "version": 3
   },
   "file_extension": ".py",
   "mimetype": "text/x-python",
   "name": "python",
   "nbconvert_exporter": "python",
   "pygments_lexer": "ipython3",
   "version": "3.9.7"
  }
 },
 "nbformat": 4,
 "nbformat_minor": 5
}
