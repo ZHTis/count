{
 "cells": [
  {
   "cell_type": "code",
   "execution_count": 122,
   "id": "b2d728ac-175c-43ba-81d8-b2a5080d88cd",
   "metadata": {},
   "outputs": [
    {
     "data": {
      "text/plain": [
       "28"
      ]
     },
     "execution_count": 122,
     "metadata": {},
     "output_type": "execute_result"
    }
   ],
   "source": [
    "import pandas as pd\n",
    "import numpy as np\n",
    "import ast\n",
    "import os\n",
    "\n",
    "# the data form is required to have no space at the beginning and nothing and the end,\n",
    "# and dicts should be separated with comma.\n",
    "\n",
    "#raw data files:\n",
    "paths = []\n",
    "directory = '/Users/rubythurs/PycharmProjects/count/datadoe/3'\n",
    "for filename in os.listdir(directory):\n",
    "    if os.path.isfile(os.path.join(directory, filename)):\n",
    "        filepath = os.path.join(directory,filename)\n",
    "        paths.append(filepath)\n",
    "len(paths)"
   ]
  },
  {
   "cell_type": "code",
   "execution_count": 123,
   "id": "191e25fd-6bf0-41c7-8530-a21eedf5f58c",
   "metadata": {
    "scrolled": true,
    "tags": []
   },
   "outputs": [
    {
     "data": {
      "text/plain": [
       "(9972, 11)"
      ]
     },
     "execution_count": 123,
     "metadata": {},
     "output_type": "execute_result"
    }
   ],
   "source": [
    "dictx = []\n",
    "for i in range(0,len(paths)):\n",
    "    path = paths[i]\n",
    "    with open(path) as f:\n",
    "        data = f.read()\n",
    "        data2 = ast.literal_eval(data) #tuple\n",
    "        for item in data2:\n",
    "            if isinstance(item, dict):\n",
    "                dictx.append(item)\n",
    "\n",
    "pd.set_option('display.max_columns', 40)\n",
    "pd.set_option('display.max_rows', None)\n",
    "df = pd.DataFrame(dictx)\n",
    "dfg = df.dropna(subset=['grade'])\n",
    "dfg.shape"
   ]
  },
  {
   "cell_type": "code",
   "execution_count": 124,
   "id": "2e016f10-13dd-4a0a-ad47-472880895fc3",
   "metadata": {
    "scrolled": true
   },
   "outputs": [
    {
     "data": {
      "text/plain": [
       "(9972, 17)"
      ]
     },
     "execution_count": 124,
     "metadata": {},
     "output_type": "execute_result"
    }
   ],
   "source": [
    "#unite the grades\n",
    "mask =  dfg['ini_time'] == dfg['ini_time'].shift(-1)\n",
    "dfg.loc[mask, 'grade'] = np.nan\n",
    "dfgh = dfg.bfill()\n",
    "# things to analyze\n",
    "dfgh['response_time'] = dfgh['click_time']-dfgh['ini_time']\n",
    "dfgh[['ini_x','ini_y']] = dfgh['ini_pos'].str.strip('()').str.split(',', expand=True)\n",
    "dfgh[['click_x','click_y']] = dfgh['click_pos'].str.strip('()').str.split(',', expand=True)\n",
    "# Convert the entire 'Column1' from string to numeric\n",
    "columns_to_convert = ['click_x', 'click_y', 'ini_x','ini_y']\n",
    "dfgh[columns_to_convert] = dfgh[columns_to_convert].apply(pd.to_numeric)\n",
    "dfgh = dfgh.sort_values('percent_visible')\n",
    "dfgh['group']= pd.cut(dfgh['percent_visible'],bins=[i/10 for i in range(11)], labels=[f'{i/10}-{(i+1)/10}' for i in range(10)])\n",
    "dfgh.shape"
   ]
  },
  {
   "cell_type": "code",
   "execution_count": 125,
   "id": "fb5f97b0-d6ee-4b21-8ec3-2f4f75f17791",
   "metadata": {
    "tags": []
   },
   "outputs": [
    {
     "name": "stdout",
     "output_type": "stream",
     "text": [
      "percent groups: 9\n",
      "0.1-0.2,  total_touches: 1161,  total_trails:226,  cor_rate: 0.85,\n",
      "0.2-0.3,  total_touches: 1087,  total_trails:211,  cor_rate: 0.82,\n",
      "0.3-0.4,  total_touches: 1238,  total_trails:217,  cor_rate: 0.72,\n",
      "0.4-0.5,  total_touches: 1230,  total_trails:242,  cor_rate: 0.74,\n",
      "0.5-0.6,  total_touches: 1060,  total_trails:213,  cor_rate: 0.72,\n",
      "0.6-0.7,  total_touches: 1061,  total_trails:218,  cor_rate: 0.74,\n",
      "0.7-0.8,  total_touches: 1041,  total_trails:208,  cor_rate: 0.72,\n",
      "0.8-0.9,  total_touches: 1026,  total_trails:200,  cor_rate: 0.74,\n",
      "0.9-1.0,  total_touches: 1068,  total_trails:211,  cor_rate: 0.73,\n"
     ]
    },
    {
     "data": {
      "image/png": "[encoded data removed]",
      "text/plain": [
       "<Figure size 432x288 with 1 Axes>"
      ]
     },
     "metadata": {
      "needs_background": "light"
     },
     "output_type": "display_data"
    }
   ],
   "source": [
    "unique_groups = dfgh['group'].unique()\n",
    "print(f'percent groups: {len(unique_groups)}')\n",
    "\n",
    "\n",
    "# Create a dictionary to store the selected DataFrames\n",
    "dfs = {} #all responses\n",
    "dfss ={} # 1 response per trail\n",
    "\n",
    "per = []\n",
    "c_rate = []\n",
    "\n",
    "# Select rows for each unique value in the \"Group\" column\n",
    "for group_value in unique_groups:\n",
    "    dfs[group_value] = dfgh[dfgh['group'] == group_value]\n",
    "    #correct rate\n",
    "    latest_touch_time= dfs[group_value].groupby('ini_time')['response_time'].idxmax()\n",
    "    dfss[group_value] = dfs[group_value].loc[latest_touch_time]\n",
    "    q = dfss[group_value]['grade'].value_counts()[1]\n",
    "    shape = dfss[group_value].shape[0]\n",
    "    rate=q / shape\n",
    "    \n",
    "    per.append(group_value)\n",
    "    c_rate.append(rate)\n",
    "\n",
    "    print(f'{group_value},  total_touches: {dfs[group_value].shape[0]},  total_trails:{shape},  cor_rate: {rate.round(2)},')\n",
    "\n",
    "dft = {'percent':per,'rate':c_rate,}\n",
    "dft = pd.DataFrame(dft)\n",
    "dft\n",
    "\n",
    "import pandas as pd\n",
    "import matplotlib.pyplot as plt\n",
    "\n",
    "\n",
    "\n",
    "dft.plot.scatter(y='rate', x='percent')\n",
    "\n",
    "# Set the plot title and axis labels\n",
    "plt.title('Box Plot')\n",
    "plt.xlabel('Group')\n",
    "plt.ylabel('Value')\n",
    "\n",
    "# Display the plot\n",
    "plt.show()"
   ]
  },
  {
   "cell_type": "code",
   "execution_count": null,
   "id": "9094e11e-a172-4fae-85d2-70abb2cb80d8",
   "metadata": {},
   "outputs": [],
   "source": []
  },
  {
   "cell_type": "code",
   "execution_count": null,
   "id": "45748d10-5f22-4c6e-81c7-ea02bb9d6d9c",
   "metadata": {},
   "outputs": [],
   "source": []
  },
  {
   "cell_type": "code",
   "execution_count": 126,
   "id": "f938f395-15d6-47c2-b54b-6b15a61cd80a",
   "metadata": {
    "tags": []
   },
   "outputs": [
    {
     "name": "stdout",
     "output_type": "stream",
     "text": [
      "percent groups: 9\n",
      "0.1-0.2,  15478.0,  73044.0,  71553.0,\n",
      "0.2-0.3,  13400.0,  133152.0,  131506.0,\n",
      "0.3-0.4,  42735.0,  220158.0,  212673.0,\n",
      "0.4-0.5,  8135.0,  43224.0,  42546.0,\n",
      "0.5-0.6,  43408.0,  141363.0,  130796.0,\n",
      "0.6-0.7,  11996.0,  20517.0,  14830.0,\n",
      "0.7-0.8,  6153.0,  12179.0,  10587.0,\n",
      "0.8-0.9,  5228.0,  159975.0,  154836.0,\n",
      "0.9-1.0,  3344.0,  95688.0,  95748.0,\n"
     ]
    }
   ],
   "source": [
    "unique_groups = dfgh['group'].unique()\n",
    "print(f'percent groups: {len(unique_groups)}')\n",
    "\n",
    "\n",
    "# Create a dictionary to store the selected DataFrames\n",
    "dfs = {} #all responses\n",
    "\n",
    "\n",
    "# Select rows for each unique value in the \"Group\" column\n",
    "for group_value in unique_groups:\n",
    "    dfs[group_value] = dfgh[dfgh['group'] == group_value]    \n",
    "    #time message\n",
    "    loc1 = dfs[group_value].groupby('ini_time')['response_time'].idxmax()\n",
    "    loc0 = dfs[group_value].groupby('ini_time')['response_time'].idxmin()\n",
    "    mintime= dfs[group_value].loc[loc0]['response_time'].values * 0.001\n",
    "    maxtime= dfs[group_value].loc[loc1].response_time.values *0.001\n",
    "    duration = (maxtime-mintime)\n",
    "    #print(f'{group_value},   {mintime.mean().round()},  {maxtime.mean().round()},  {duration.mean().round()}')\n",
    "    print(f'{group_value},  {mintime.std().round()},  {maxtime.std().round()},  {duration.std().round()},')\n",
    "\n",
    "\n"
   ]
  },
  {
   "cell_type": "code",
   "execution_count": 127,
   "id": "d7ce0c1d-aaf5-4fc6-a079-277e4a34f8f7",
   "metadata": {
    "tags": []
   },
   "outputs": [
    {
     "data": {
      "image/png": "[encoded data removed]",
      "text/plain": [
       "<Figure size 432x288 with 1 Axes>"
      ]
     },
     "metadata": {
      "needs_background": "light"
     },
     "output_type": "display_data"
    }
   ],
   "source": [
    "import pandas as pd\n",
    "import matplotlib.pyplot as plt\n",
    "\n",
    "\n",
    "th = 50000\n",
    "dfgh2 = dfgh[dfgh['response_time'] <= th]\n",
    "dfgh2.boxplot(column='response_time', by='group')\n",
    "\n",
    "# Set the plot title and axis labels\n",
    "plt.title('Box Plot')\n",
    "plt.xlabel('Group')\n",
    "plt.ylabel('Value')\n",
    "\n",
    "# Display the plot\n",
    "plt.show()"
   ]
  },
  {
   "cell_type": "code",
   "execution_count": 140,
   "id": "8762bd97-c0ec-41b4-b537-beb4a82115ca",
   "metadata": {},
   "outputs": [
    {
     "name": "stdout",
     "output_type": "stream",
     "text": [
      "percent groups: 9\n"
     ]
    }
   ],
   "source": [
    "unique_groups = dfgh['group'].unique()\n",
    "print(f'percent groups: {len(unique_groups)}')\n",
    "\n",
    "th = 50000\n",
    "dfgh2 = dfgh[dfgh['response_time'] <= th]\n",
    "\n",
    "\n",
    "# Create a dictionary to store the selected DataFrames\n",
    "dfs = {} #all responses\n",
    "\n",
    "per = []\n",
    "max_time =[]\n",
    "min_time = []\n",
    "t =[]\n",
    "# Select rows for each unique value in the \"Group\" column\n",
    "for group_value in unique_groups:\n",
    "    dfs[group_value] = dfgh2[dfgh2['group'] == group_value]    \n",
    "    #time message\n",
    "    loc1 = dfs[group_value].groupby('ini_time')['response_time'].idxmax()\n",
    "    loc0 = dfs[group_value].groupby('ini_time')['response_time'].idxmin()\n",
    "    mintime= dfs[group_value].loc[loc0]['response_time'].values * 0.001\n",
    "    maxtime= dfs[group_value].loc[loc1].response_time.values *0.001\n",
    "    duration = (maxtime-mintime)\n",
    "    per.append(group_value)\n",
    "    max_time.append(maxtime)\n",
    "    min_time.append(mintime)\n",
    "    t.append(dfgh2[dfgh2['group'] == group_value].response_time*0.001)\n",
    "    \n",
    "dftb1 = {'percent':per,'maxtime':max_time,}\n",
    "dftb0 = {'percent':per,'mintime':min_time,}\n",
    "dftb1 = pd.DataFrame(dftb1)\n",
    "dftb0 = pd.DataFrame(dftb0)\n",
    "dfgha = pd.DataFrame({'percent':per,'t':t})"
   ]
  },
  {
   "cell_type": "code",
   "execution_count": 152,
   "id": "85a58581-b61e-48c8-a378-36d5d561da5f",
   "metadata": {
    "tags": []
   },
   "outputs": [
    {
     "data": {
      "image/png": "[encoded data removed]",
      "text/plain": [
       "<Figure size 1296x288 with 1 Axes>"
      ]
     },
     "metadata": {
      "needs_background": "light"
     },
     "output_type": "display_data"
    }
   ],
   "source": [
    "import matplotlib.pyplot as plt\n",
    "\n",
    "# Create a figure and axes\n",
    "fig, ax = plt.subplots(figsize=(18,4))\n",
    "\n",
    "boxplot3 = ax.boxplot(dfgha['t'],positions=[x + 0.15 for x in range(len(dftb0))], widths=0.2)\n",
    "\n",
    "boxplot1 = ax.boxplot(dftb1['maxtime'], positions=range(len(dftb1)), widths=0.2)\n",
    "\n",
    "boxplot2 = ax.boxplot(dftb0['mintime'], positions=[x + 0.3 for x in range(len(dftb0))], widths=0.2)\n",
    "ax.set_xticks([x + 0.15 for x in range(len(dftb0))])\n",
    "ax.set_xticklabels(dftb0['percent'])\n",
    "\n",
    "for i in range(9):\n",
    "    boxplot1['boxes'][i].set(color='blue')\n",
    "    boxplot2['boxes'][i].set(color='red')\n",
    "    boxplot3['boxes'][i].set(color='orange')\n",
    "    \n",
    "# Add legend\n",
    "ax.legend([boxplot1[\"boxes\"][0], boxplot2[\"boxes\"][0]], ['Maxtime', 'Mintime'])\n",
    "\n",
    "# Show the plot\n",
    "plt.show()"
   ]
  },
  {
   "cell_type": "code",
   "execution_count": null,
   "id": "b2c7b4d2-0e2d-4f33-954f-418ce9b97673",
   "metadata": {},
   "outputs": [],
   "source": []
  },
  {
   "cell_type": "code",
   "execution_count": null,
   "id": "78348b38-9a3b-46b5-8417-3811a2da4e8c",
   "metadata": {},
   "outputs": [],
   "source": []
  },
  {
   "cell_type": "code",
   "execution_count": null,
   "id": "7e8f9d2d-46d4-4d73-a332-1bfbaf4ecb12",
   "metadata": {},
   "outputs": [],
   "source": []
  },
  {
   "cell_type": "code",
   "execution_count": null,
   "id": "10ae6a7d-d43a-4fbf-9d23-feb9b809a226",
   "metadata": {},
   "outputs": [],
   "source": []
  },
  {
   "cell_type": "code",
   "execution_count": null,
   "id": "415ad03b-fe1f-4c30-89d6-f80f43b9f694",
   "metadata": {},
   "outputs": [],
   "source": [
    "\n"
   ]
  },
  {
   "cell_type": "code",
   "execution_count": null,
   "id": "4fad0d12-c230-49fd-858d-ddd4abd40e09",
   "metadata": {},
   "outputs": [],
   "source": []
  },
  {
   "cell_type": "code",
   "execution_count": null,
   "id": "6bec4f48-cba1-4a79-b6cb-e1af06805371",
   "metadata": {},
   "outputs": [],
   "source": []
  }
 ],
 "metadata": {
  "kernelspec": {
   "display_name": "Python 3 (ipykernel)",
   "language": "python",
   "name": "python3"
  },
  "language_info": {
   "codemirror_mode": {
    "name": "ipython",
    "version": 3
   },
   "file_extension": ".py",
   "mimetype": "text/x-python",
   "name": "python",
   "nbconvert_exporter": "python",
   "pygments_lexer": "ipython3",
   "version": "3.9.7"
  }
 },
 "nbformat": 4,
 "nbformat_minor": 5
}
