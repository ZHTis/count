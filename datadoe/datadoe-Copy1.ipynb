{
 "cells": [
  {
   "cell_type": "code",
   "execution_count": 7,
   "id": "b2d728ac-175c-43ba-81d8-b2a5080d88cd",
   "metadata": {},
   "outputs": [
    {
     "data": {
      "text/plain": [
       "5"
      ]
     },
     "execution_count": 7,
     "metadata": {},
     "output_type": "execute_result"
    }
   ],
   "source": [
    "import pandas as pd\n",
    "import numpy as np\n",
    "import ast\n",
    "import os\n",
    "\n",
    "# the data form is required to have no space at the beginning and nothing and the end,\n",
    "# and dicts should be separated with comma.\n",
    "\n",
    "#raw data files:\n",
    "paths = []\n",
    "directory = 'C:/Users/ZHT/Documents/dataProcess/Pon_behaviorC/' #'/Users/rubythurs/Documents/222' #/Users/rubythurs/PycharmProjects/count/datadoe/3'#\n",
    "for filename in os.listdir(directory):\n",
    "    if os.path.isfile(os.path.join(directory, filename)):\n",
    "        filepath = os.path.join(directory,filename)\n",
    "        paths.append(filepath)\n",
    "        \n",
    "len(paths)\n"
   ]
  },
  {
   "cell_type": "code",
   "execution_count": 8,
   "id": "191e25fd-6bf0-41c7-8530-a21eedf5f58c",
   "metadata": {
    "scrolled": true,
    "tags": []
   },
   "outputs": [
    {
     "ename": "ValueError",
     "evalue": "malformed node or string on line 6: <ast.Name object at 0x00000287E9747C50>",
     "output_type": "error",
     "traceback": [
      "\u001b[1;31m---------------------------------------------------------------------------\u001b[0m",
      "\u001b[1;31mValueError\u001b[0m                                Traceback (most recent call last)",
      "Cell \u001b[1;32mIn[8], line 6\u001b[0m\n\u001b[0;32m      4\u001b[0m \u001b[38;5;28;01mwith\u001b[39;00m \u001b[38;5;28mopen\u001b[39m(path) \u001b[38;5;28;01mas\u001b[39;00m f:\n\u001b[0;32m      5\u001b[0m     data \u001b[38;5;241m=\u001b[39m f\u001b[38;5;241m.\u001b[39mread()\n\u001b[1;32m----> 6\u001b[0m     data2 \u001b[38;5;241m=\u001b[39m \u001b[43mast\u001b[49m\u001b[38;5;241;43m.\u001b[39;49m\u001b[43mliteral_eval\u001b[49m\u001b[43m(\u001b[49m\u001b[43mdata\u001b[49m\u001b[43m)\u001b[49m \u001b[38;5;66;03m#tuple\u001b[39;00m\n\u001b[0;32m      7\u001b[0m     \u001b[38;5;28;01mfor\u001b[39;00m item \u001b[38;5;129;01min\u001b[39;00m data2:\n\u001b[0;32m      8\u001b[0m         \u001b[38;5;28;01mif\u001b[39;00m \u001b[38;5;28misinstance\u001b[39m(item, \u001b[38;5;28mdict\u001b[39m):\n",
      "File \u001b[1;32mc:\\Users\\ZHT\\anaconda3\\envs\\count\\Lib\\ast.py:112\u001b[0m, in \u001b[0;36mliteral_eval\u001b[1;34m(node_or_string)\u001b[0m\n\u001b[0;32m    110\u001b[0m                 \u001b[38;5;28;01mreturn\u001b[39;00m left \u001b[38;5;241m-\u001b[39m right\n\u001b[0;32m    111\u001b[0m     \u001b[38;5;28;01mreturn\u001b[39;00m _convert_signed_num(node)\n\u001b[1;32m--> 112\u001b[0m \u001b[38;5;28;01mreturn\u001b[39;00m \u001b[43m_convert\u001b[49m\u001b[43m(\u001b[49m\u001b[43mnode_or_string\u001b[49m\u001b[43m)\u001b[49m\n",
      "File \u001b[1;32mc:\\Users\\ZHT\\anaconda3\\envs\\count\\Lib\\ast.py:92\u001b[0m, in \u001b[0;36mliteral_eval.<locals>._convert\u001b[1;34m(node)\u001b[0m\n\u001b[0;32m     90\u001b[0m     \u001b[38;5;28;01mreturn\u001b[39;00m \u001b[38;5;28mtuple\u001b[39m(\u001b[38;5;28mmap\u001b[39m(_convert, node\u001b[38;5;241m.\u001b[39melts))\n\u001b[0;32m     91\u001b[0m \u001b[38;5;28;01melif\u001b[39;00m \u001b[38;5;28misinstance\u001b[39m(node, List):\n\u001b[1;32m---> 92\u001b[0m     \u001b[38;5;28;01mreturn\u001b[39;00m \u001b[38;5;28;43mlist\u001b[39;49m\u001b[43m(\u001b[49m\u001b[38;5;28;43mmap\u001b[39;49m\u001b[43m(\u001b[49m\u001b[43m_convert\u001b[49m\u001b[43m,\u001b[49m\u001b[43m \u001b[49m\u001b[43mnode\u001b[49m\u001b[38;5;241;43m.\u001b[39;49m\u001b[43melts\u001b[49m\u001b[43m)\u001b[49m\u001b[43m)\u001b[49m\n\u001b[0;32m     93\u001b[0m \u001b[38;5;28;01melif\u001b[39;00m \u001b[38;5;28misinstance\u001b[39m(node, Set):\n\u001b[0;32m     94\u001b[0m     \u001b[38;5;28;01mreturn\u001b[39;00m \u001b[38;5;28mset\u001b[39m(\u001b[38;5;28mmap\u001b[39m(_convert, node\u001b[38;5;241m.\u001b[39melts))\n",
      "File \u001b[1;32mc:\\Users\\ZHT\\anaconda3\\envs\\count\\Lib\\ast.py:101\u001b[0m, in \u001b[0;36mliteral_eval.<locals>._convert\u001b[1;34m(node)\u001b[0m\n\u001b[0;32m     99\u001b[0m     \u001b[38;5;28;01mif\u001b[39;00m \u001b[38;5;28mlen\u001b[39m(node\u001b[38;5;241m.\u001b[39mkeys) \u001b[38;5;241m!=\u001b[39m \u001b[38;5;28mlen\u001b[39m(node\u001b[38;5;241m.\u001b[39mvalues):\n\u001b[0;32m    100\u001b[0m         _raise_malformed_node(node)\n\u001b[1;32m--> 101\u001b[0m     \u001b[38;5;28;01mreturn\u001b[39;00m \u001b[38;5;28;43mdict\u001b[39;49m\u001b[43m(\u001b[49m\u001b[38;5;28;43mzip\u001b[39;49m\u001b[43m(\u001b[49m\u001b[38;5;28;43mmap\u001b[39;49m\u001b[43m(\u001b[49m\u001b[43m_convert\u001b[49m\u001b[43m,\u001b[49m\u001b[43m \u001b[49m\u001b[43mnode\u001b[49m\u001b[38;5;241;43m.\u001b[39;49m\u001b[43mkeys\u001b[49m\u001b[43m)\u001b[49m\u001b[43m,\u001b[49m\n\u001b[0;32m    102\u001b[0m \u001b[43m                    \u001b[49m\u001b[38;5;28;43mmap\u001b[39;49m\u001b[43m(\u001b[49m\u001b[43m_convert\u001b[49m\u001b[43m,\u001b[49m\u001b[43m \u001b[49m\u001b[43mnode\u001b[49m\u001b[38;5;241;43m.\u001b[39;49m\u001b[43mvalues\u001b[49m\u001b[43m)\u001b[49m\u001b[43m)\u001b[49m\u001b[43m)\u001b[49m\n\u001b[0;32m    103\u001b[0m \u001b[38;5;28;01melif\u001b[39;00m \u001b[38;5;28misinstance\u001b[39m(node, BinOp) \u001b[38;5;129;01mand\u001b[39;00m \u001b[38;5;28misinstance\u001b[39m(node\u001b[38;5;241m.\u001b[39mop, (Add, Sub)):\n\u001b[0;32m    104\u001b[0m     left \u001b[38;5;241m=\u001b[39m _convert_signed_num(node\u001b[38;5;241m.\u001b[39mleft)\n",
      "File \u001b[1;32mc:\\Users\\ZHT\\anaconda3\\envs\\count\\Lib\\ast.py:111\u001b[0m, in \u001b[0;36mliteral_eval.<locals>._convert\u001b[1;34m(node)\u001b[0m\n\u001b[0;32m    109\u001b[0m         \u001b[38;5;28;01melse\u001b[39;00m:\n\u001b[0;32m    110\u001b[0m             \u001b[38;5;28;01mreturn\u001b[39;00m left \u001b[38;5;241m-\u001b[39m right\n\u001b[1;32m--> 111\u001b[0m \u001b[38;5;28;01mreturn\u001b[39;00m \u001b[43m_convert_signed_num\u001b[49m\u001b[43m(\u001b[49m\u001b[43mnode\u001b[49m\u001b[43m)\u001b[49m\n",
      "File \u001b[1;32mc:\\Users\\ZHT\\anaconda3\\envs\\count\\Lib\\ast.py:85\u001b[0m, in \u001b[0;36mliteral_eval.<locals>._convert_signed_num\u001b[1;34m(node)\u001b[0m\n\u001b[0;32m     83\u001b[0m     \u001b[38;5;28;01melse\u001b[39;00m:\n\u001b[0;32m     84\u001b[0m         \u001b[38;5;28;01mreturn\u001b[39;00m \u001b[38;5;241m-\u001b[39m operand\n\u001b[1;32m---> 85\u001b[0m \u001b[38;5;28;01mreturn\u001b[39;00m \u001b[43m_convert_num\u001b[49m\u001b[43m(\u001b[49m\u001b[43mnode\u001b[49m\u001b[43m)\u001b[49m\n",
      "File \u001b[1;32mc:\\Users\\ZHT\\anaconda3\\envs\\count\\Lib\\ast.py:76\u001b[0m, in \u001b[0;36mliteral_eval.<locals>._convert_num\u001b[1;34m(node)\u001b[0m\n\u001b[0;32m     74\u001b[0m \u001b[38;5;28;01mdef\u001b[39;00m \u001b[38;5;21m_convert_num\u001b[39m(node):\n\u001b[0;32m     75\u001b[0m     \u001b[38;5;28;01mif\u001b[39;00m \u001b[38;5;129;01mnot\u001b[39;00m \u001b[38;5;28misinstance\u001b[39m(node, Constant) \u001b[38;5;129;01mor\u001b[39;00m \u001b[38;5;28mtype\u001b[39m(node\u001b[38;5;241m.\u001b[39mvalue) \u001b[38;5;129;01mnot\u001b[39;00m \u001b[38;5;129;01min\u001b[39;00m (\u001b[38;5;28mint\u001b[39m, \u001b[38;5;28mfloat\u001b[39m, \u001b[38;5;28mcomplex\u001b[39m):\n\u001b[1;32m---> 76\u001b[0m         \u001b[43m_raise_malformed_node\u001b[49m\u001b[43m(\u001b[49m\u001b[43mnode\u001b[49m\u001b[43m)\u001b[49m\n\u001b[0;32m     77\u001b[0m     \u001b[38;5;28;01mreturn\u001b[39;00m node\u001b[38;5;241m.\u001b[39mvalue\n",
      "File \u001b[1;32mc:\\Users\\ZHT\\anaconda3\\envs\\count\\Lib\\ast.py:73\u001b[0m, in \u001b[0;36mliteral_eval.<locals>._raise_malformed_node\u001b[1;34m(node)\u001b[0m\n\u001b[0;32m     71\u001b[0m \u001b[38;5;28;01mif\u001b[39;00m lno \u001b[38;5;241m:=\u001b[39m \u001b[38;5;28mgetattr\u001b[39m(node, \u001b[38;5;124m'\u001b[39m\u001b[38;5;124mlineno\u001b[39m\u001b[38;5;124m'\u001b[39m, \u001b[38;5;28;01mNone\u001b[39;00m):\n\u001b[0;32m     72\u001b[0m     msg \u001b[38;5;241m+\u001b[39m\u001b[38;5;241m=\u001b[39m \u001b[38;5;124mf\u001b[39m\u001b[38;5;124m'\u001b[39m\u001b[38;5;124m on line \u001b[39m\u001b[38;5;132;01m{\u001b[39;00mlno\u001b[38;5;132;01m}\u001b[39;00m\u001b[38;5;124m'\u001b[39m\n\u001b[1;32m---> 73\u001b[0m \u001b[38;5;28;01mraise\u001b[39;00m \u001b[38;5;167;01mValueError\u001b[39;00m(msg \u001b[38;5;241m+\u001b[39m \u001b[38;5;124mf\u001b[39m\u001b[38;5;124m'\u001b[39m\u001b[38;5;124m: \u001b[39m\u001b[38;5;132;01m{\u001b[39;00mnode\u001b[38;5;132;01m!r}\u001b[39;00m\u001b[38;5;124m'\u001b[39m)\n",
      "\u001b[1;31mValueError\u001b[0m: malformed node or string on line 6: <ast.Name object at 0x00000287E9747C50>"
     ]
    }
   ],
   "source": [
    "dictx = []\n",
    "for i in range(0,len(paths)):\n",
    "    path = paths[i]\n",
    "    with open(path) as f:\n",
    "        data = f.read()\n",
    "        data2 = ast.literal_eval(data) #tuple\n",
    "        for item in data2:\n",
    "            if isinstance(item, dict):\n",
    "                dictx.append(item)\n",
    "\n",
    "pd.set_option('display.max_columns', 40)\n",
    "pd.set_option('display.max_rows', None)\n",
    "df = pd.DataFrame(dictx)\n",
    "dfg = df.dropna(subset=['grade'])\n",
    "dfg.shape"
   ]
  },
  {
   "cell_type": "code",
   "execution_count": 3,
   "id": "2e016f10-13dd-4a0a-ad47-472880895fc3",
   "metadata": {
    "scrolled": true
   },
   "outputs": [
    {
     "data": {
      "text/plain": [
       "(988, 17)"
      ]
     },
     "execution_count": 3,
     "metadata": {},
     "output_type": "execute_result"
    }
   ],
   "source": [
    "#unite the grades\n",
    "mask =  dfg['ini_time'] == dfg['ini_time'].shift(-1)\n",
    "dfg.loc[mask, 'grade'] = np.nan\n",
    "dfgh = dfg.bfill()\n",
    "# things to analyze\n",
    "dfgh['response_time'] = dfgh['click_time']-dfgh['ini_time']\n",
    "dfgh[['ini_x','ini_y']] = dfgh['ini_pos'].str.strip('()').str.split(',', expand=True)\n",
    "dfgh[['click_x','click_y']] = dfgh['click_pos'].str.strip('()').str.split(',', expand=True)\n",
    "# Convert the entire 'Column1' from string to numeric\n",
    "columns_to_convert = ['click_x', 'click_y', 'ini_x','ini_y']\n",
    "dfgh[columns_to_convert] = dfgh[columns_to_convert].apply(pd.to_numeric)\n",
    "dfgh = dfgh.sort_values('percent_visible')\n",
    "dfgh['group']= pd.cut(dfgh['percent_visible'],bins=[i/10 for i in range(11)], labels=[f'{i/10}-{(i+1)/10}' for i in range(10)])\n",
    "dfgh.shape"
   ]
  },
  {
   "cell_type": "code",
   "execution_count": 4,
   "id": "fb5f97b0-d6ee-4b21-8ec3-2f4f75f17791",
   "metadata": {
    "tags": []
   },
   "outputs": [
    {
     "name": "stdout",
     "output_type": "stream",
     "text": [
      "percent groups: 9\n",
      "0.1-0.2,  total_touches: 87,  total_trails:29,  cor_rate: 0.93,\n",
      "0.2-0.3,  total_touches: 127,  total_trails:40,  cor_rate: 0.92,\n",
      "0.3-0.4,  total_touches: 114,  total_trails:38,  cor_rate: 1.0,\n",
      "0.4-0.5,  total_touches: 88,  total_trails:29,  cor_rate: 0.97,\n",
      "0.5-0.6,  total_touches: 106,  total_trails:32,  cor_rate: 1.0,\n",
      "0.6-0.7,  total_touches: 100,  total_trails:31,  cor_rate: 0.97,\n",
      "0.7-0.8,  total_touches: 125,  total_trails:40,  cor_rate: 0.98,\n",
      "0.8-0.9,  total_touches: 130,  total_trails:41,  cor_rate: 0.98,\n",
      "0.9-1.0,  total_touches: 111,  total_trails:35,  cor_rate: 1.0,\n"
     ]
    },
    {
     "data": {
      "image/png": "[encoded data removed]",
      "text/plain": [
       "<Figure size 432x288 with 1 Axes>"
      ]
     },
     "metadata": {
      "needs_background": "light"
     },
     "output_type": "display_data"
    }
   ],
   "source": [
    "unique_groups = dfgh['group'].unique()\n",
    "print(f'percent groups: {len(unique_groups)}')\n",
    "\n",
    "\n",
    "# Create a dictionary to store the selected DataFrames\n",
    "dfs = {} #all responses\n",
    "dfss ={} # 1 response per trail\n",
    "\n",
    "per = []\n",
    "c_rate = []\n",
    "\n",
    "# Select rows for each unique value in the \"Group\" column\n",
    "for group_value in unique_groups:\n",
    "    dfs[group_value] = dfgh[dfgh['group'] == group_value]\n",
    "    #correct rate\n",
    "    latest_touch_time= dfs[group_value].groupby('ini_time')['response_time'].idxmax()\n",
    "    dfss[group_value] = dfs[group_value].loc[latest_touch_time]\n",
    "    q = dfss[group_value]['grade'].value_counts()[1]\n",
    "    shape = dfss[group_value].shape[0]\n",
    "    rate=q / shape\n",
    "    \n",
    "    per.append(group_value)\n",
    "    c_rate.append(rate)\n",
    "\n",
    "    print(f'{group_value},  total_touches: {dfs[group_value].shape[0]},  total_trails:{shape},  cor_rate: {rate.round(2)},')\n",
    "\n",
    "dft = {'percent':per,'rate':c_rate,}\n",
    "dft = pd.DataFrame(dft)\n",
    "dft\n",
    "\n",
    "import pandas as pd\n",
    "import matplotlib.pyplot as plt\n",
    "\n",
    "\n",
    "\n",
    "dft.plot.scatter(y='rate', x='percent')\n",
    "\n",
    "# Set the plot title and axis labels\n",
    "plt.title('Box Plot')\n",
    "plt.xlabel('Group')\n",
    "plt.ylabel('Value')\n",
    "\n",
    "# Display the plot\n",
    "plt.show()"
   ]
  },
  {
   "cell_type": "code",
   "execution_count": null,
   "id": "9094e11e-a172-4fae-85d2-70abb2cb80d8",
   "metadata": {},
   "outputs": [],
   "source": []
  },
  {
   "cell_type": "code",
   "execution_count": null,
   "id": "45748d10-5f22-4c6e-81c7-ea02bb9d6d9c",
   "metadata": {},
   "outputs": [],
   "source": []
  },
  {
   "cell_type": "code",
   "execution_count": 5,
   "id": "f938f395-15d6-47c2-b54b-6b15a61cd80a",
   "metadata": {
    "tags": []
   },
   "outputs": [
    {
     "name": "stdout",
     "output_type": "stream",
     "text": [
      "percent groups: 9\n",
      "0.1-0.2,  1932.0,  1930.0,  161.0,\n",
      "0.2-0.3,  740.0,  832.0,  370.0,\n",
      "0.3-0.4,  615.0,  630.0,  39.0,\n",
      "0.4-0.5,  445.0,  446.0,  68.0,\n",
      "0.5-0.6,  354.0,  388.0,  345.0,\n",
      "0.6-0.7,  328.0,  491.0,  317.0,\n",
      "0.7-0.8,  464.0,  543.0,  254.0,\n",
      "0.8-0.9,  451.0,  506.0,  268.0,\n",
      "0.9-1.0,  487.0,  537.0,  235.0,\n"
     ]
    }
   ],
   "source": [
    "unique_groups = dfgh['group'].unique()\n",
    "print(f'percent groups: {len(unique_groups)}')\n",
    "\n",
    "\n",
    "# Create a dictionary to store the selected DataFrames\n",
    "dfs = {} #all responses\n",
    "\n",
    "\n",
    "# Select rows for each unique value in the \"Group\" column\n",
    "for group_value in unique_groups:\n",
    "    dfs[group_value] = dfgh[dfgh['group'] == group_value]    \n",
    "    #time message\n",
    "    loc1 = dfs[group_value].groupby('ini_time')['response_time'].idxmax()\n",
    "    loc0 = dfs[group_value].groupby('ini_time')['response_time'].idxmin()\n",
    "    mintime= dfs[group_value].loc[loc0]['response_time'].values * 0.001\n",
    "    maxtime= dfs[group_value].loc[loc1].response_time.values *0.001\n",
    "    duration = (maxtime-mintime)\n",
    "    #print(f'{group_value},   {mintime.mean().round()},  {maxtime.mean().round()},  {duration.mean().round()}')\n",
    "    print(f'{group_value},  {mintime.std().round()},  {maxtime.std().round()},  {duration.std().round()},')\n",
    "\n",
    "\n"
   ]
  },
  {
   "cell_type": "code",
   "execution_count": 6,
   "id": "d7ce0c1d-aaf5-4fc6-a079-277e4a34f8f7",
   "metadata": {
    "tags": []
   },
   "outputs": [
    {
     "data": {
      "image/png": "[encoded data removed]",
      "text/plain": [
       "<Figure size 432x288 with 1 Axes>"
      ]
     },
     "metadata": {
      "needs_background": "light"
     },
     "output_type": "display_data"
    }
   ],
   "source": [
    "import pandas as pd\n",
    "import matplotlib.pyplot as plt\n",
    "\n",
    "\n",
    "th = 50000\n",
    "dfgh2 = dfgh[dfgh['response_time'] <= th]\n",
    "dfgh2.boxplot(column='response_time', by='group')\n",
    "\n",
    "# Set the plot title and axis labels\n",
    "plt.title('Box Plot')\n",
    "plt.xlabel('Group')\n",
    "plt.ylabel('Value')\n",
    "\n",
    "# Display the plot\n",
    "plt.show()"
   ]
  },
  {
   "cell_type": "code",
   "execution_count": 7,
   "id": "8762bd97-c0ec-41b4-b537-beb4a82115ca",
   "metadata": {},
   "outputs": [
    {
     "name": "stdout",
     "output_type": "stream",
     "text": [
      "percent groups: 9\n"
     ]
    },
    {
     "data": {
      "text/plain": [
       "(1, 17)"
      ]
     },
     "execution_count": 7,
     "metadata": {},
     "output_type": "execute_result"
    }
   ],
   "source": [
    "unique_groups = dfgh['group'].unique()\n",
    "print(f'percent groups: {len(unique_groups)}')\n",
    "\n",
    "th = 100000\n",
    "dfgh2 = dfgh[dfgh['response_time'] <= th]\n",
    "\n",
    "\n",
    "# Create a dictionary to store the selected DataFrames\n",
    "dfs = {} #all responses\n",
    "\n",
    "per = []\n",
    "max_time =[]\n",
    "min_time = []\n",
    "t =[]\n",
    "# Select rows for each unique value in the \"Group\" column\n",
    "for group_value in unique_groups:\n",
    "    dfs[group_value] = dfgh2[dfgh2['group'] == group_value]    \n",
    "    #time message\n",
    "    loc1 = dfs[group_value].groupby('ini_time')['response_time'].idxmax()\n",
    "    loc0 = dfs[group_value].groupby('ini_time')['response_time'].idxmin()\n",
    "    mintime= dfs[group_value].loc[loc0]['response_time'].values * 0.001\n",
    "    maxtime= dfs[group_value].loc[loc1].response_time.values *0.001\n",
    "    duration = (maxtime-mintime)\n",
    "    per.append(group_value)\n",
    "    max_time.append(maxtime)\n",
    "    min_time.append(mintime)\n",
    "    t.append(dfgh2[dfgh2['group'] == group_value].response_time*0.001)\n",
    "    \n",
    "dftb1 = {'percent':per,'maxtime':max_time,}\n",
    "dftb0 = {'percent':per,'mintime':min_time,}\n",
    "dftb1 = pd.DataFrame(dftb1)\n",
    "dftb0 = pd.DataFrame(dftb0)\n",
    "dfgha = pd.DataFrame({'percent':per,'t':t})\n",
    "\n",
    "dfgh2.shape"
   ]
  },
  {
   "cell_type": "code",
   "execution_count": 8,
   "id": "85a58581-b61e-48c8-a378-36d5d561da5f",
   "metadata": {
    "tags": []
   },
   "outputs": [
    {
     "data": {
      "image/png": "[encoded data removed]",
      "text/plain": [
       "<Figure size 1296x288 with 1 Axes>"
      ]
     },
     "metadata": {
      "needs_background": "light"
     },
     "output_type": "display_data"
    }
   ],
   "source": [
    "import matplotlib.pyplot as plt\n",
    "\n",
    "# Create a figure and axes\n",
    "fig, ax = plt.subplots(figsize=(18,4))\n",
    "\n",
    "boxplot3 = ax.boxplot(dfgha['t'],positions=[x + 0.15 for x in range(len(dftb0))], widths=0.2)\n",
    "\n",
    "boxplot1 = ax.boxplot(dftb1['maxtime'], positions=range(len(dftb1)), widths=0.2)\n",
    "\n",
    "boxplot2 = ax.boxplot(dftb0['mintime'], positions=[x + 0.3 for x in range(len(dftb0))], widths=0.2)\n",
    "ax.set_xticks([x + 0.15 for x in range(len(dftb0))])\n",
    "ax.set_xticklabels(dftb0['percent'])\n",
    "\n",
    "for i in range(9):\n",
    "    boxplot1['boxes'][i].set(color='blue')\n",
    "    boxplot2['boxes'][i].set(color='red')\n",
    "    boxplot3['boxes'][i].set(color='orange')\n",
    "    \n",
    "# Add legend\n",
    "ax.legend([boxplot1[\"boxes\"][0], boxplot2[\"boxes\"][0]], ['Maxtime', 'Mintime'])\n",
    "\n",
    "# Show the plot\n",
    "plt.show()"
   ]
  },
  {
   "cell_type": "code",
   "execution_count": null,
   "id": "b2c7b4d2-0e2d-4f33-954f-418ce9b97673",
   "metadata": {},
   "outputs": [],
   "source": []
  },
  {
   "cell_type": "code",
   "execution_count": null,
   "id": "78348b38-9a3b-46b5-8417-3811a2da4e8c",
   "metadata": {},
   "outputs": [],
   "source": []
  },
  {
   "cell_type": "code",
   "execution_count": null,
   "id": "7e8f9d2d-46d4-4d73-a332-1bfbaf4ecb12",
   "metadata": {},
   "outputs": [],
   "source": []
  },
  {
   "cell_type": "code",
   "execution_count": null,
   "id": "10ae6a7d-d43a-4fbf-9d23-feb9b809a226",
   "metadata": {},
   "outputs": [],
   "source": []
  },
  {
   "cell_type": "code",
   "execution_count": null,
   "id": "415ad03b-fe1f-4c30-89d6-f80f43b9f694",
   "metadata": {},
   "outputs": [],
   "source": [
    "\n"
   ]
  },
  {
   "cell_type": "code",
   "execution_count": null,
   "id": "4fad0d12-c230-49fd-858d-ddd4abd40e09",
   "metadata": {},
   "outputs": [],
   "source": []
  },
  {
   "cell_type": "code",
   "execution_count": null,
   "id": "6bec4f48-cba1-4a79-b6cb-e1af06805371",
   "metadata": {},
   "outputs": [],
   "source": []
  }
 ],
 "metadata": {
  "kernelspec": {
   "display_name": "count",
   "language": "python",
   "name": "python3"
  },
  "language_info": {
   "codemirror_mode": {
    "name": "ipython",
    "version": 3
   },
   "file_extension": ".py",
   "mimetype": "text/x-python",
   "name": "python",
   "nbconvert_exporter": "python",
   "pygments_lexer": "ipython3",
   "version": "3.12.4"
  }
 },
 "nbformat": 4,
 "nbformat_minor": 5
}
